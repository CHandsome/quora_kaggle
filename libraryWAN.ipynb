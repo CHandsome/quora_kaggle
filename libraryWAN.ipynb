{
 "cells": [
  {
   "cell_type": "code",
   "execution_count": null,
   "metadata": {
    "collapsed": true
   },
   "outputs": [],
   "source": [
    "import numpy as np"
   ]
  },
  {
   "cell_type": "code",
   "execution_count": 2,
   "metadata": {
    "collapsed": true
   },
   "outputs": [],
   "source": [
    "def functionWordWAN(sentence, fwords_dict, window_size, alpha):\n",
    "    wan = np.zeros((len(fwords_dict), len(fwords_dict)))\n",
    "    for idx, pivot in enumerate(sentence[:-1]): # don't include last word as pivot\n",
    "        if (not fwords_dict.get(pivot)):\n",
    "            continue\n",
    "        else:\n",
    "            sentence_slice = sentence[idx:(idx+window_size)]\n",
    "            for it, word in enumerate(sentence_slice[1:]): # don't include pivot word\n",
    "                if (fwords_dict.get(word)):\n",
    "                    if (fwords_dict.get(word) != fwords_dict.get(pivot)): # no self loops\n",
    "                        r = fwords_dict.get(pivot)\n",
    "                        c = fwords_dict.get(word)\n",
    "                        wan[r-1,c-1] += pow(alpha,it+1)\n",
    "                           \n",
    "    return wan"
   ]
  },
  {
   "cell_type": "code",
   "execution_count": 1,
   "metadata": {
    "collapsed": true
   },
   "outputs": [],
   "source": [
    "def normalizeWAN(raw_wan, fwords_len):\n",
    "    sums = raw_wan.sum(axis=1)\n",
    "    sums = np.matlib.repmat(sums, fwords_len, 1)\n",
    "    sums = sums.T\n",
    "    norm_wan = raw_wan / sums\n",
    "    norm_wan = np.nan_to_num(norm_wan) # Make sure nans from zero division are zeros\n",
    "    return norm_wan"
   ]
  },
  {
   "cell_type": "code",
   "execution_count": null,
   "metadata": {
    "collapsed": true
   },
   "outputs": [],
   "source": []
  },
  {
   "cell_type": "code",
   "execution_count": null,
   "metadata": {
    "collapsed": true
   },
   "outputs": [],
   "source": []
  }
 ],
 "metadata": {
  "kernelspec": {
   "display_name": "Python 3",
   "language": "python",
   "name": "python3"
  },
  "language_info": {
   "codemirror_mode": {
    "name": "ipython",
    "version": 3
   },
   "file_extension": ".py",
   "mimetype": "text/x-python",
   "name": "python",
   "nbconvert_exporter": "python",
   "pygments_lexer": "ipython3",
   "version": "3.5.2"
  }
 },
 "nbformat": 4,
 "nbformat_minor": 0
}
