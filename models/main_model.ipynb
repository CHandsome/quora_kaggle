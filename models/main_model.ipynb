{
 "cells": [
  {
   "cell_type": "code",
   "execution_count": 1,
   "metadata": {
    "collapsed": false
   },
   "outputs": [
    {
     "name": "stdout",
     "output_type": "stream",
     "text": [
      "Using matplotlib backend: MacOSX\n",
      "sample_submission.csv\n",
      "test.csv\n",
      "train.csv\n",
      "\n"
     ]
    }
   ],
   "source": [
    "import numpy as np # linear algebra\n",
    "import pandas as pd # data processing, CSV file I/O (e.g. pd.read_csv)\n",
    "import libraryWAN as lw\n",
    "import string\n",
    "import matplotlib.pylab as plt\n",
    "from numpy import linalg as LA\n",
    "%matplotlib\n",
    "# Input data files are available in the \"../input/\" directory.\n",
    "# For example, running this (by clicking run or pressing Shift+Enter) will list the files in the input directory\n",
    "\n",
    "from subprocess import check_output\n",
    "print(check_output([\"ls\", \"input\"]).decode(\"utf8\"))\n",
    "\n",
    "# Any results you write to the current directory are saved as output."
   ]
  },
  {
   "cell_type": "markdown",
   "metadata": {
    "collapsed": true
   },
   "source": [
    "## ETL"
   ]
  },
  {
   "cell_type": "code",
   "execution_count": 2,
   "metadata": {
    "collapsed": false
   },
   "outputs": [
    {
     "name": "stdout",
     "output_type": "stream",
     "text": [
      "Shape of base training File =  (404290, 6)\n",
      "Shape of base training data after cleaning =  (404288, 6)\n",
      "   mat_idx      id    qid1    qid2  \\\n",
      "0        0  120517  195457  195458   \n",
      "1        1  315993  440962  424030   \n",
      "\n",
      "                                           question1  \\\n",
      "0  What are futuristics project ideas for final y...   \n",
      "1  Is it a compulsion that less than 60% in 12th ...   \n",
      "\n",
      "                                           question2  is_duplicate  \n",
      "0  What are some good projects for final year ele...             0  \n",
      "1  Is MBA a good career choice for those who have...             0  \n",
      "(8086, 6)\n"
     ]
    }
   ],
   "source": [
    "from sklearn.model_selection import train_test_split\n",
    "\n",
    "def read_data():\n",
    "    df = pd.read_csv(\"input/train.csv\")\n",
    "    print (\"Shape of base training File = \", df.shape)\n",
    "    # Remove missing values and duplicates from training data\n",
    "    df.drop_duplicates(inplace=True)\n",
    "    df.dropna(inplace=True)\n",
    "    print(\"Shape of base training data after cleaning = \", df.shape)\n",
    "    return df\n",
    "\n",
    "df = read_data()\n",
    "df_train, df_test = train_test_split(df, test_size = 0.02)\n",
    "df_train = df_train.reset_index(drop=True)\n",
    "df_train = df_train.reset_index()\n",
    "df_train = df_train.rename(columns = {'index':'mat_idx'})\n",
    "\n",
    "print (df_train.head(2))\n",
    "print (df_test.shape)"
   ]
  },
  {
   "cell_type": "markdown",
   "metadata": {},
   "source": [
    "## Load Pre-Acquired Function Words"
   ]
  },
  {
   "cell_type": "code",
   "execution_count": 3,
   "metadata": {
    "collapsed": true
   },
   "outputs": [],
   "source": [
    "data = pd.read_csv('function_words.csv',header=None,names=['fwords'])\n",
    "fwords = data['fwords'].values.tolist()\n",
    "fwords_dict = {}\n",
    "for idx, word in enumerate(fwords):\n",
    "    fwords_dict[word] = idx+1"
   ]
  },
  {
   "cell_type": "markdown",
   "metadata": {},
   "source": [
    "## Helper Functions"
   ]
  },
  {
   "cell_type": "code",
   "execution_count": 4,
   "metadata": {
    "collapsed": true
   },
   "outputs": [],
   "source": [
    "transtable = {ord(c): None for c in string.punctuation}\n",
    "\n",
    "def processSentence(raw_sentence):\n",
    "    raw_list = raw_sentence.split(\" \")\n",
    "    clean_list = [str.translate(transtable) for str in raw_list] # remove punctuation\n",
    "    clean_list = [word.lower().strip() for word in clean_list] # clean the word\n",
    "    return clean_list"
   ]
  },
  {
   "cell_type": "markdown",
   "metadata": {
    "collapsed": true
   },
   "source": [
    "## Similarity Metrics"
   ]
  },
  {
   "cell_type": "code",
   "execution_count": 5,
   "metadata": {
    "collapsed": false
   },
   "outputs": [],
   "source": [
    "from sklearn.metrics.pairwise import cosine_similarity as cs\n",
    "from sklearn.metrics.pairwise import manhattan_distances as md\n",
    "from sklearn.metrics.pairwise import euclidean_distances as ed\n",
    "from sklearn.metrics import jaccard_similarity_score as jsc\n",
    "from sklearn.neighbors import DistanceMetric\n",
    "from sklearn.preprocessing import MinMaxScaler\n",
    "\n",
    "minkowski_dis = DistanceMetric.get_metric('minkowski')\n",
    "\n",
    "mms_scale_man = MinMaxScaler()\n",
    "mms_scale_euc = MinMaxScaler()\n",
    "mms_scale_mink = MinMaxScaler()\n",
    "\n",
    "features = np.zeros((df_train.shape[0], 5))\n",
    "\n",
    "# Test run for the first 20 lines:\n",
    "# for ridx, row in df_train.iterrows():\n",
    "#     if ridx > 20: break\n",
    "#     else:\n",
    "        "
   ]
  },
  {
   "cell_type": "markdown",
   "metadata": {
    "collapsed": true
   },
   "source": [
    "## Relative Entropy Test"
   ]
  },
  {
   "cell_type": "code",
   "execution_count": 9,
   "metadata": {
    "collapsed": false
   },
   "outputs": [
    {
     "name": "stdout",
     "output_type": "stream",
     "text": [
      "What are futuristics project ideas for final year electronics engineers?\n",
      "What are some good projects for final year electronics engineering?\n",
      "Status 0\n",
      "[0.0, 0.0]\n",
      "Is it a compulsion that less than 60% in 12th marks be a factor of failure during your MBA placements?\n",
      "Is MBA a good career choice for those who have less than 60% aggregate in Engineering? \n",
      "Status 0\n",
      "[4.1553526242505762e-09, 0.0]\n",
      "What are the top 10 Tamil movies of 2016?\n",
      "What are your top 10 Tamil songs in 2014?\n",
      "Status 0\n",
      "[0.0, 0.0]\n",
      "What is motivation in human resource management?\n",
      "What is most frustrating about being a human resource manager?\n",
      "Status 0\n",
      "[0.0, 0.0]\n",
      "Why are porn sites deemed unsafe?\n",
      "What is an Indian porn site?\n",
      "Status 0\n",
      "[0.0, 0.0]\n",
      "Who is Aung San Suu Kyi?\n",
      "What can you tell about Aun San Suu Kyi as a person?\n",
      "Status 0\n",
      "[0.0, 0.0]\n",
      "What is it like to be a friend of an introvert?\n",
      "What does it feel like to be an introvert?\n",
      "Status 0\n",
      "[0.0, 0.0]\n",
      "How do I get my Facebook account?\n",
      "How do I manage my Facebook account?\n",
      "Status 0\n",
      "[0.0, 0.0]\n",
      "What are the examples of a presence of mind?\n",
      "What is the example of Presence of Mind?\n",
      "Status 1\n",
      "[4.905590036247972e-09, 1.7560601298705718e-14]\n",
      "Who would win in a fight, Teen Titans or The Young Avengers?\n",
      "What is required for the preparation of disaster contingency plan?\n",
      "Status 0\n",
      "[0.0, 0.0]\n",
      "What are some examples of neutral stimulus?\n",
      "Concept of volcanicity?\n",
      "Status 0\n",
      "[0.0, 0.0]\n",
      "What is the best way to start your day?\n",
      "How do I start my day?\n",
      "Status 1\n",
      "[0.0, 0.0]\n",
      "What are the culture differences between Chinese and Western?\n",
      "What are the biggest differences between Chinese culture and western culture?\n",
      "Status 1\n",
      "[0.0, 889.92210508254004]\n",
      "Do Indians need a visa to visit Hong Kong?\n",
      "Do Indians need visa to travel to Hong Kong and Macau?\n",
      "Status 0\n",
      "[0.0, 2.4986279103115665e-28]\n",
      "Who is a person of class?\n",
      "What is a class?\n",
      "Status 0\n",
      "[0.0, 0.0]\n",
      "Which is the best real estate agency in pune?\n",
      "What are some good real estate agencies in ahmedabad?\n",
      "Status 0\n",
      "[0.0, 0.0]\n",
      "What are the biggest misconceptions that Indians have about India ?\n",
      "What are the biggest misconceptions that Indians have about India?\n",
      "Status 1\n",
      "[0.0, 0.0]\n",
      "What are some arguments against the problem of evil?\n",
      "What is the problem of evil?\n",
      "Status 0\n",
      "[0.0, 0.0]\n",
      "What is it like to work as an Associate Software Engineer at Accenture ?\n",
      "How do I become a Team Leader/Senior Executive at Accenture (India) from an Associate Software Engineer?\n",
      "Status 0\n",
      "[0.0, 0.0]\n",
      "What is marginalism in economics?\n",
      "What is margin?\n",
      "Status 0\n",
      "[0.0, 0.0]\n",
      "Which book makes/changed your life?\n",
      "Is there a book that changed your life? Why?\n",
      "Status 1\n",
      "[0.0, 0.0]\n",
      "Do you have to believe in God to be a Christian?\n",
      "Do you have to believe in God to be Christian?\n",
      "Status 1\n",
      "[4.029247993936719e-15, 9.4766114683098654e-13]\n",
      "What is the difference between front end and back end development?\n",
      "What is the difference between front end and back end website development?\n",
      "Status 1\n",
      "[2.117315322628891e-10, 3.4366322033123559e-15]\n",
      "Have you ever been forced by your parents to take a course you did not like but ended up loving it genuinely and became successful?\n",
      "Are cbse private forms 2016-17 out or not?\n",
      "Status 0\n",
      "[1.2020570561494813e-08, 0.0]\n",
      "How do you prepare for a blizzard?\n",
      "How can blizzards be prevented? How should you prepare for a blizzard?\n",
      "Status 1\n",
      "[0.0, 2.6390279919910344e-16]\n",
      "Is Apple going to discontinue the MacBook Air?\n",
      "Will Apple update the MacBook Air or discontinue it?\n",
      "Status 1\n",
      "[0.0, 0.0]\n",
      "What are 3rd world countries with lowest crime rates?\n",
      "Why do Asian Americans have the lowest crime rate compared to other races?\n",
      "Status 0\n",
      "[0.0, 0.0]\n",
      "Will a fresher Indian CA get a job abroad?\n",
      "Career Advice: Which is better for an Indian, ACCA or CA? After completing the ACCA from India, what are the chances of getting a job in India or in abroad countries?\n",
      "Status 0\n",
      "[1.7938001136167401e-09, 0.1138658102999438]\n",
      "What are some of the famous conspiracy theories that came true?\n",
      "What conspiracy theories have been proven?\n",
      "Status 1\n",
      "[0.0, 0.0]\n",
      "What are some local laws in regards to nudity in Vermont, and how do they differ from nudity laws in Georgia?\n",
      "What are some local laws in regards to nudity in Vermont, and how do they differ from nudity laws in Indiana?\n",
      "Status 0\n",
      "[0.56746410748264731, 0.56746410748264742]\n",
      "Can a free press be intimidated by legal action?\n",
      "What causes Beaver fever?\n",
      "Status 0\n",
      "[0.0, 0.0]\n",
      "Who is faster: the Flash or Zoom?\n",
      "How exactly does Zoom's powers work?\n",
      "Status 0\n",
      "[0.0, 0.0]\n",
      "Are there any countries where murder is legal?\n",
      "Where in the world is murder legal?\n",
      "Status 1\n",
      "[0.0, 0.0]\n",
      "What are the functions of stock exchange?\n",
      "What is stock exchange and its functions?\n",
      "Status 0\n",
      "[0.0, 0.0]\n",
      "Does Reliance Jio 4G requires a LTE SIM Cards or VOLTE compatible Handset? Can we use data on current phone over a WiFi?\n",
      "How can I use reliance Jio 4g sim in my 3g Samsung Galaxy Core 2?\n",
      "Status 0\n",
      "[0.79467897514748564, 0.0]\n",
      "What are some good study techniques? \n",
      "What are some good study techniques for Mathematics?\n",
      "Status 0\n",
      "[0.0, 0.0]\n",
      "What are your thoughts on the \"Mandela Effect\"?\n",
      "What are your thoughts on the Mandela effect?\n",
      "Status 1\n",
      "[0.0, 0.0]\n",
      "What are some of the awesome facts you believe very few people know?\n",
      "What are some interesting facts that very few people know?\n",
      "Status 1\n",
      "[0.0, 0.0]\n",
      "What are the safety precautions on handling shotguns proposed by the NRA in Georgia?\n",
      "What are the safety precautions on handling shotguns proposed by the NRA in Mississippi?\n",
      "Status 1\n",
      "[1.4033961635024284e-08, 1.4033961635024231e-08]\n",
      "What makes a perfect pizza?\n",
      "What makes a good pizza?\n",
      "Status 1\n",
      "[0.0, 0.0]\n",
      "How do you prepare for a product management interview?\n",
      "What are good ways to impress in an interview for Product Management?\n",
      "Status 0\n",
      "[0.0, 0.0]\n",
      "Can someone be granted a US Work Visa without a bachelor's degree or equivalent experience?\n",
      "How do I delete my own question from Quora?\n",
      "Status 0\n",
      "[3.4303579173638489e-15, 0.0]\n",
      "What does 5th generation laptop mean?\n",
      "Which is the cheapest laptop with the following specs: 1TB HDD, Intel i7 (4th or 5th generation whichever is good), 8GB RAM, and a 4 GB Graphics card?\n",
      "Status 0\n",
      "[0.0, 2.5061521210908197e-05]\n",
      "How is life in baroda?\n",
      "How is the life in Baroda for students?\n",
      "Status 0\n",
      "[0.0, 0.0]\n",
      "How do I delete this account?\n",
      "How do I delete my faadooengineers account?\n",
      "Status 0\n",
      "[0.0, 0.0]\n",
      "What are scripting languages and programming languages?\n",
      "What is the exact difference between programming languages and scripting languages and their types and their real time applications?\n",
      "Status 1\n",
      "[461.34763843395814, 2.5628468694340677e-10]\n",
      "Recently I got really really angry and I peed my pants. Is this a common occurrence?\n",
      "What are the common first signs of pregnancy? How can I tell if I'm pregnant? What are the symptoms?\n",
      "Status 0\n",
      "[1.8861133220317495e-15, 12.57335767969197]\n",
      "Why do the people fall in love?\n",
      "How do people fall in love?\n",
      "Status 1\n",
      "[0.0, 0.0]\n",
      "What should I say whenever my girlfriend asks me why I love her?\n",
      "My girlfriend asked me to describe her. How should I do that?\n",
      "Status 0\n",
      "[3.8610684939911837e-06, 0.0]\n",
      "Why should I visit Kerala?\n",
      "What are the major tourist attraction in Kerala?\n",
      "Status 1\n",
      "[0.0, 0.0]\n"
     ]
    }
   ],
   "source": [
    "WINDOW_SIZE = 10\n",
    "ALPHA = 0.8\n",
    "\n",
    "for idx in range(50):\n",
    "    s1 = df_train.get_value(idx, 'question1')\n",
    "    s2 = df_train.get_value(idx, 'question2')\n",
    "    s1_tok = processSentence(s1)\n",
    "    s2_tok = processSentence(s2)\n",
    "    \n",
    "    wanPair = lw.generateWANPair(s1_tok, s2_tok, WINDOW_SIZE, ALPHA)\n",
    "    raw1_wan = wanPair['snt1_wan']\n",
    "    raw2_wan = wanPair['snt2_wan']\n",
    "        \n",
    "#     raw1_wan = lw.functionWordWAN(s1_tok, fwords_dict, WINDOW_SIZE, ALPHA)\n",
    "#     raw2_wan = lw.functionWordWAN(s2_tok, fwords_dict, WINDOW_SIZE, ALPHA)\n",
    "    \n",
    "    s1_wan = lw.normalizeWAN(raw1_wan, raw1_wan.shape[0])\n",
    "    s2_wan = lw.normalizeWAN(raw2_wan, raw1_wan.shape[0])\n",
    "    \n",
    "    print(s1)\n",
    "    print(s2)\n",
    "    print('Status {}'.format(df_train.get_value(idx, 'is_duplicate')))\n",
    "    data = lw.relativeEntropy(s1_wan, s2_wan)\n",
    "    print(data['entropies'])"
   ]
  },
  {
   "cell_type": "code",
   "execution_count": null,
   "metadata": {
    "collapsed": true
   },
   "outputs": [],
   "source": []
  }
 ],
 "metadata": {
  "kernelspec": {
   "display_name": "Python 3",
   "language": "python",
   "name": "python3"
  },
  "language_info": {
   "codemirror_mode": {
    "name": "ipython",
    "version": 3
   },
   "file_extension": ".py",
   "mimetype": "text/x-python",
   "name": "python",
   "nbconvert_exporter": "python",
   "pygments_lexer": "ipython3",
   "version": "3.5.2"
  }
 },
 "nbformat": 4,
 "nbformat_minor": 0
}
