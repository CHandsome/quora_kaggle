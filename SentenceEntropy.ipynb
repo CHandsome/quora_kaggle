{
 "cells": [
  {
   "cell_type": "code",
   "execution_count": 23,
   "metadata": {
    "collapsed": false
   },
   "outputs": [
    {
     "name": "stdout",
     "output_type": "stream",
     "text": [
      "Using matplotlib backend: MacOSX\n"
     ]
    }
   ],
   "source": [
    "import pandas as pd\n",
    "import numpy as np\n",
    "import matplotlib.pylab as plt\n",
    "import numpy.matlib\n",
    "import numpy.linalg as la\n",
    "from numpy import inf\n",
    "import functools\n",
    "%matplotlib"
   ]
  },
  {
   "cell_type": "code",
   "execution_count": 3,
   "metadata": {
    "collapsed": true
   },
   "outputs": [],
   "source": [
    "file = open('function_words.csv','r')\n",
    "tmp = file.read()\n",
    "fwords = tmp.split('\\n')\n",
    "fwords = fwords[:-1]\n",
    "# Create a helper dictionary\n",
    "fwords_dict = {}\n",
    "for idx, word in enumerate(fwords):\n",
    "    fwords_dict[word] = idx+1"
   ]
  },
  {
   "cell_type": "code",
   "execution_count": 4,
   "metadata": {
    "collapsed": false
   },
   "outputs": [],
   "source": [
    "def functionWordWAN(sentence, fwords_dict, window_size, alpha):\n",
    "    wan = np.zeros((len(fwords_dict), len(fwords_dict)))\n",
    "    for idx, pivot in enumerate(sentence[:-1]): # don't include last word as pivot\n",
    "        if (not fwords_dict.get(pivot)):\n",
    "            continue\n",
    "        else:\n",
    "            sentence_slice = sentence[idx:(idx+window_size)]\n",
    "            for it, word in enumerate(sentence_slice[1:]): # don't include pivot word\n",
    "                if (fwords_dict.get(word)):\n",
    "                    if (fwords_dict.get(word) != fwords_dict.get(pivot)): # no self loops\n",
    "                        r = fwords_dict.get(pivot)\n",
    "                        c = fwords_dict.get(word)\n",
    "                        wan[r-1,c-1] += pow(alpha,it+1)\n",
    "                           \n",
    "    return wan"
   ]
  },
  {
   "cell_type": "code",
   "execution_count": 5,
   "metadata": {
    "collapsed": true
   },
   "outputs": [],
   "source": [
    "def normalizeWAN(raw_wan):\n",
    "    sums = raw_wan.sum(axis=1)\n",
    "    sums = np.matlib.repmat(sums,len(fwords),1)\n",
    "    sums = sums.T\n",
    "    norm_wan = raw_wan / sums\n",
    "    norm_wan = np.nan_to_num(norm_wan) # Make sure nans from zero division are zeros\n",
    "    return norm_wan"
   ]
  },
  {
   "cell_type": "code",
   "execution_count": 6,
   "metadata": {
    "collapsed": false
   },
   "outputs": [],
   "source": [
    "wan = functionWordWAN(fwords, fwords_dict, 10, 0.75)"
   ]
  },
  {
   "cell_type": "code",
   "execution_count": 7,
   "metadata": {
    "collapsed": false
   },
   "outputs": [],
   "source": [
    "# normalize WAN rows to represent as markov chain\n",
    "norm_wan = normalizeWAN(wan)\n",
    "# Optional visualize as result of test\n",
    "# plt.imshow(norm_out)\n",
    "# plt.show()\n",
    "\n",
    "# Optional sum across columns (will show all 1's except 0 in last position)\n",
    "# norm_wan.sum(axis=1)"
   ]
  },
  {
   "cell_type": "markdown",
   "metadata": {
    "collapsed": false
   },
   "source": [
    "## A simple Test"
   ]
  },
  {
   "cell_type": "code",
   "execution_count": 13,
   "metadata": {
    "collapsed": true
   },
   "outputs": [],
   "source": [
    "alpha = 0.75\n",
    "sentence = ['the','cat','in','the','hat','bought','a','baseball','bat','i','am','happy']\n",
    "window_size = 6\n",
    "sentence_1 = ['i','like','the','cat','in','the','hat','who','bought','a','baseball','bat']"
   ]
  },
  {
   "cell_type": "code",
   "execution_count": 14,
   "metadata": {
    "collapsed": true
   },
   "outputs": [],
   "source": [
    "wan2 = functionWordWAN(sentence, fwords_dict, 10, alpha)\n",
    "wan3 = functionWordWAN(sentence_1, fwords_dict, 10, alpha)"
   ]
  },
  {
   "cell_type": "code",
   "execution_count": 15,
   "metadata": {
    "collapsed": true
   },
   "outputs": [],
   "source": [
    "norm_wan2 = normalizeWAN(wan2)\n",
    "norm_wan3 = normalizeWAN(wan3)"
   ]
  },
  {
   "cell_type": "markdown",
   "metadata": {
    "collapsed": true
   },
   "source": [
    "## Relative Entropy"
   ]
  },
  {
   "cell_type": "code",
   "execution_count": 12,
   "metadata": {
    "collapsed": true
   },
   "outputs": [],
   "source": [
    "def relativeEntropy(wan1, wan2):\n",
    "    # Return is a list containing 1 w.r.t 2, then 2 w.r.t. 1\n",
    "    entropies = [0, 0]\n",
    "    \n",
    "    limiting1 = la.matrix_power(wan1, 25) # 25 selected as reasonable convergence value\n",
    "    limiting2 = la.matrix_power(wan2, 25)\n",
    "    \n",
    "    # 1 w.r.t 2\n",
    "    imd = np.nan_to_num(np.divide(wan1,wan2)) # Set all nan's to zero (0/0)\n",
    "    imd[(imd == inf) | (imd == -inf)] = 0 # All infinities to 0 (scalar/0)\n",
    "    log_imd = np.nan_to_num(np.log(imd))\n",
    "    log_imd[(log_imd == inf) | (log_imd == -inf)] = 0    \n",
    "    weights = functools.reduce(np.multiply, [limiting1, wan1, log_imd])\n",
    "    entropies[0] = sum(sum(weights))\n",
    "    \n",
    "    # 2 w.r.t 1\n",
    "    imd = np.nan_to_num(np.divide(wan2,wan1)) # Set all nan's to zero (0/0)\n",
    "    imd[(imd == inf) | (imd == -inf)] = 0 # All infinities to 0 (scalar/0)\n",
    "    log_imd = np.nan_to_num(np.log(imd))\n",
    "    log_imd[(log_imd == inf) | (log_imd == -inf)] = 0    \n",
    "    weights = functools.reduce(np.multiply, [limiting2, wan2, log_imd])\n",
    "    entropies[1] = sum(sum(weights))\n",
    "    \n",
    "    return entropies"
   ]
  },
  {
   "cell_type": "code",
   "execution_count": 26,
   "metadata": {
    "collapsed": false
   },
   "outputs": [
    {
     "data": {
      "text/plain": [
       "[9.3523620479563405e-06, 4.2630042948802758e-07]"
      ]
     },
     "execution_count": 26,
     "metadata": {},
     "output_type": "execute_result"
    }
   ],
   "source": [
    "relativeEntropy(norm_wan2, norm_wan3)"
   ]
  },
  {
   "cell_type": "code",
   "execution_count": 25,
   "metadata": {
    "collapsed": false
   },
   "outputs": [
    {
     "data": {
      "text/plain": [
       "array([ 1.,  0.,  0.,  0.,  1.,  0.,  0.,  1.,  0.,  0.,  0.,  0.,  0.,\n",
       "        0.,  0.,  0.,  0.,  0.,  0.,  0.,  0.,  0.,  0.,  0.,  0.,  0.,\n",
       "        0.,  0.,  0.,  0.,  0.,  0.,  0.,  0.,  0.,  0.,  0.,  1.,  1.,\n",
       "        0.,  0.,  0.,  0.,  0.,  0.,  0.,  0.,  0.,  0.])"
      ]
     },
     "execution_count": 25,
     "metadata": {},
     "output_type": "execute_result"
    }
   ],
   "source": [
    "norm_wan3.sum(axis=1)"
   ]
  },
  {
   "cell_type": "code",
   "execution_count": null,
   "metadata": {
    "collapsed": true
   },
   "outputs": [],
   "source": []
  }
 ],
 "metadata": {
  "kernelspec": {
   "display_name": "Python 3",
   "language": "python",
   "name": "python3"
  },
  "language_info": {
   "codemirror_mode": {
    "name": "ipython",
    "version": 3
   },
   "file_extension": ".py",
   "mimetype": "text/x-python",
   "name": "python",
   "nbconvert_exporter": "python",
   "pygments_lexer": "ipython3",
   "version": "3.5.2"
  }
 },
 "nbformat": 4,
 "nbformat_minor": 0
}
