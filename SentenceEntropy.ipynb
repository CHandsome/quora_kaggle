{
 "cells": [
  {
   "cell_type": "code",
   "execution_count": 1,
   "metadata": {
    "collapsed": false
   },
   "outputs": [
    {
     "name": "stdout",
     "output_type": "stream",
     "text": [
      "Using matplotlib backend: MacOSX\n"
     ]
    }
   ],
   "source": [
    "import pandas as pd\n",
    "import numpy as np\n",
    "import matplotlib.pylab as plt\n",
    "import numpy.matlib\n",
    "%matplotlib"
   ]
  },
  {
   "cell_type": "code",
   "execution_count": 2,
   "metadata": {
    "collapsed": true
   },
   "outputs": [],
   "source": [
    "file = open('function_words.csv','r')\n",
    "tmp = file.read()\n",
    "fwords = tmp.split('\\n')\n",
    "fwords = fwords[:-1]\n",
    "# Create a helper dictionary\n",
    "fwords_dict = {}\n",
    "for idx, word in enumerate(fwords):\n",
    "    fwords_dict[word] = idx+1"
   ]
  },
  {
   "cell_type": "code",
   "execution_count": 3,
   "metadata": {
    "collapsed": false
   },
   "outputs": [],
   "source": [
    "def functionWordWAN(sentence, fwords_dict, window_size, alpha):\n",
    "    wan = np.zeros((len(fwords_dict), len(fwords_dict)))\n",
    "    for idx, pivot in enumerate(sentence[:-1]): # don't include last word as pivot\n",
    "        if (not fwords_dict.get(pivot)):\n",
    "            continue\n",
    "        else:\n",
    "            sentence_slice = sentence[idx:(idx+window_size)]\n",
    "            for it, word in enumerate(sentence_slice[1:]): # don't include pivot word\n",
    "                if (fwords_dict.get(word)):\n",
    "                    if (fwords_dict.get(word) != fwords_dict.get(pivot)): # no self loops\n",
    "                        r = fwords_dict.get(pivot)\n",
    "                        c = fwords_dict.get(word)\n",
    "                        wan[r-1,c-1] += pow(alpha,it+1)\n",
    "                           \n",
    "    return wan"
   ]
  },
  {
   "cell_type": "code",
   "execution_count": 4,
   "metadata": {
    "collapsed": true
   },
   "outputs": [],
   "source": [
    "def normalizeWAN(raw_wan):\n",
    "    sums = raw_wan.sum(axis=1)\n",
    "    sums = np.matlib.repmat(sums,len(fwords),1)\n",
    "    sums = sums.T\n",
    "    norm_wan = raw_wan / sums\n",
    "    norm_wan = np.nan_to_num(norm_wan) # Make sure nans from zero division are zeros\n",
    "    return norm_wan"
   ]
  },
  {
   "cell_type": "code",
   "execution_count": 5,
   "metadata": {
    "collapsed": false
   },
   "outputs": [],
   "source": [
    "wan = functionWordEntropy(fwords, fwords_dict, 10, 0.75)"
   ]
  },
  {
   "cell_type": "code",
   "execution_count": 6,
   "metadata": {
    "collapsed": false
   },
   "outputs": [],
   "source": [
    "# normalize WAN rows to represent as markov chain\n",
    "norm_wan = normalizeWan(wan)\n",
    "# Optional visualize as result of test\n",
    "# plt.imshow(norm_out)\n",
    "# plt.show()\n",
    "\n",
    "# Optional sum across columns (will show all 1's except 0 in last position)\n",
    "# norm_wan.sum(axis=1)"
   ]
  },
  {
   "cell_type": "markdown",
   "metadata": {
    "collapsed": false
   },
   "source": [
    "## A simple Test"
   ]
  },
  {
   "cell_type": "code",
   "execution_count": 7,
   "metadata": {
    "collapsed": true
   },
   "outputs": [],
   "source": [
    "alpha = 0.75\n",
    "sentence = ['the','cat','in','the','hat','bought','a','baseball','bat','i','am','happy']\n",
    "window_size = 6"
   ]
  },
  {
   "cell_type": "code",
   "execution_count": 8,
   "metadata": {
    "collapsed": true
   },
   "outputs": [],
   "source": [
    "wan2 = functionWordEntropy(sentence, fwords_dict, 10, alpha)"
   ]
  },
  {
   "cell_type": "code",
   "execution_count": 9,
   "metadata": {
    "collapsed": true
   },
   "outputs": [],
   "source": [
    "norm_wan2 = normalizeWan(wan2)"
   ]
  },
  {
   "cell_type": "code",
   "execution_count": 10,
   "metadata": {
    "collapsed": false
   },
   "outputs": [],
   "source": [
    "plt.imshow(norm_wan2)\n",
    "plt.show()"
   ]
  },
  {
   "cell_type": "code",
   "execution_count": null,
   "metadata": {
    "collapsed": true
   },
   "outputs": [],
   "source": []
  }
 ],
 "metadata": {
  "kernelspec": {
   "display_name": "Python 3",
   "language": "python",
   "name": "python3"
  },
  "language_info": {
   "codemirror_mode": {
    "name": "ipython",
    "version": 3
   },
   "file_extension": ".py",
   "mimetype": "text/x-python",
   "name": "python",
   "nbconvert_exporter": "python",
   "pygments_lexer": "ipython3",
   "version": "3.5.2"
  }
 },
 "nbformat": 4,
 "nbformat_minor": 0
}
