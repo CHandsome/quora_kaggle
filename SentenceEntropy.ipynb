{
 "cells": [
  {
   "cell_type": "code",
   "execution_count": 57,
   "metadata": {
    "collapsed": true
   },
   "outputs": [],
   "source": [
    "import pandas as pd\n",
    "import numpy as np\n",
    "import matplotlib.pylab as plt\n",
    "import numpy.matlib"
   ]
  },
  {
   "cell_type": "code",
   "execution_count": 19,
   "metadata": {
    "collapsed": true
   },
   "outputs": [],
   "source": [
    "file = open('function_words.csv','r')\n",
    "tmp = file.read()\n",
    "fwords = tmp.split('\\n')\n",
    "fwords = fwords[:-1]\n",
    "# Create a helper dictionary\n",
    "fwords_dict = {}\n",
    "for idx, word in enumerate(fwords):\n",
    "    fwords_dict[word] = idx"
   ]
  },
  {
   "cell_type": "code",
   "execution_count": 53,
   "metadata": {
    "collapsed": false
   },
   "outputs": [],
   "source": [
    "def functionWordEntropy(sentence, fwords_dict, window_size, alpha):\n",
    "    wan = np.zeros((len(fwords_dict), len(fwords_dict)))\n",
    "    for idx, pivot in enumerate(sentence[:-1]): # don't include last word as pivot\n",
    "        if (not fwords_dict.get(pivot)):\n",
    "            continue\n",
    "        else:\n",
    "            sentence_slice = sentence[idx:(idx+window_size)]\n",
    "            for it, word in enumerate(sentence_slice[1:]): # don't include pivot word\n",
    "                if (fwords_dict.get(word)):\n",
    "                    if (fwords_dict.get(word) != fwords_dict.get(pivot)):\n",
    "                        r = fwords_dict.get(pivot)\n",
    "                        c = fwords_dict.get(word)\n",
    "                        wan[r,c] += pow(alpha,it+1)\n",
    "                        \n",
    "                        \n",
    "    return wan"
   ]
  },
  {
   "cell_type": "code",
   "execution_count": 60,
   "metadata": {
    "collapsed": true
   },
   "outputs": [],
   "source": [
    "# FAIRLY CERTAIN THIS ISN'T WORKING YET\n",
    "\n",
    "def normalizeWan(raw_wan):\n",
    "    sums = raw_wan.sum(axis=1)\n",
    "    sums = np.matlib.repmat(sums,len(fwords),1)\n",
    "    sums = sums.T\n",
    "    norm_wan = raw_wan / sums\n",
    "    return norm_wan"
   ]
  },
  {
   "cell_type": "code",
   "execution_count": 54,
   "metadata": {
    "collapsed": false
   },
   "outputs": [],
   "source": [
    "alpha = 0.75\n",
    "sentence = [\"i\",\"am\",\"a\",\"hoopla\",\"i\"]"
   ]
  },
  {
   "cell_type": "code",
   "execution_count": 55,
   "metadata": {
    "collapsed": false
   },
   "outputs": [],
   "source": [
    "out = functionWordEntropy(fwords, fwords_dict, 10, alpha)"
   ]
  },
  {
   "cell_type": "code",
   "execution_count": 61,
   "metadata": {
    "collapsed": false
   },
   "outputs": [],
   "source": [
    "# normalize WAN rows to represent as markov chain\n",
    "norm_out = normalizeWan(out)"
   ]
  },
  {
   "cell_type": "code",
   "execution_count": 62,
   "metadata": {
    "collapsed": false
   },
   "outputs": [
    {
     "data": {
      "text/plain": [
       "<matplotlib.image.AxesImage at 0x1111592e8>"
      ]
     },
     "execution_count": 62,
     "metadata": {},
     "output_type": "execute_result"
    }
   ],
   "source": [
    "plt.imshow(norm_out)"
   ]
  },
  {
   "cell_type": "code",
   "execution_count": 64,
   "metadata": {
    "collapsed": true
   },
   "outputs": [],
   "source": [
    "plt.close()"
   ]
  },
  {
   "cell_type": "code",
   "execution_count": 67,
   "metadata": {
    "collapsed": false
   },
   "outputs": [],
   "source": [
    "plt.clf()"
   ]
  },
  {
   "cell_type": "code",
   "execution_count": 68,
   "metadata": {
    "collapsed": false
   },
   "outputs": [
    {
     "data": {
      "text/plain": [
       "array([ nan,   1.,   1.,   1.,   1.,   1.,   1.,   1.,   1.,   1.,   1.,\n",
       "         1.,   1.,   1.,   1.,   1.,   1.,   1.,   1.,   1.,   1.,   1.,\n",
       "         1.,   1.,   1.,   1.,   1.,   1.,   1.,   1.,   1.,   1.,   1.,\n",
       "         1.,   1.,   1.,   1.,   1.,   1.,   1.,   1.,   1.,   1.,   1.,\n",
       "         1.,   1.,   1.,   1.,  nan])"
      ]
     },
     "execution_count": 68,
     "metadata": {},
     "output_type": "execute_result"
    }
   ],
   "source": [
    "norm_out.sum(axis=1)"
   ]
  },
  {
   "cell_type": "code",
   "execution_count": null,
   "metadata": {
    "collapsed": true
   },
   "outputs": [],
   "source": []
  },
  {
   "cell_type": "code",
   "execution_count": null,
   "metadata": {
    "collapsed": true
   },
   "outputs": [],
   "source": []
  }
 ],
 "metadata": {
  "kernelspec": {
   "display_name": "Python 3",
   "language": "python",
   "name": "python3"
  },
  "language_info": {
   "codemirror_mode": {
    "name": "ipython",
    "version": 3
   },
   "file_extension": ".py",
   "mimetype": "text/x-python",
   "name": "python",
   "nbconvert_exporter": "python",
   "pygments_lexer": "ipython3",
   "version": "3.5.2"
  }
 },
 "nbformat": 4,
 "nbformat_minor": 0
}
