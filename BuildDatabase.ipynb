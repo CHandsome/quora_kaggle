{
 "cells": [
  {
   "cell_type": "code",
   "execution_count": null,
   "metadata": {
    "collapsed": true
   },
   "outputs": [],
   "source": [
    "import sqlite3\n",
    "conn = sqlite3.connect('input/compositeDatabase.sqlite')\n",
    "c = conn.cursor()"
   ]
  },
  {
   "cell_type": "code",
   "execution_count": null,
   "metadata": {
    "collapsed": true
   },
   "outputs": [],
   "source": [
    "feature_vect = {}\n",
    "\n",
    "with open('input/stanfordData_train1.nlp', 'rb') as handle:\n",
    "    count = 0\n",
    "    while True:\n",
    "        if (count % 10000 == 0):\n",
    "            print(count)\n",
    "        try:\n",
    "            unit = pickle.load(handle)\n",
    "            # ST Syntax score\n",
    "            (rscore_st, nscore_st) = tk._CollinsDuffy_(unit['q1']['parse'], unit['q2']['parse'], 0.8, 1, 0)\n",
    "\n",
    "            feature_vect[unit['id']] = {\n",
    "                'id':unit['id'], \n",
    "                'cdNorm_st':nscore_st\n",
    "            }\n",
    "            \n",
    "        except EOFError:\n",
    "            break\n",
    "        except:\n",
    "            print(\"Quote error on: %d\", unit['id'])\n",
    "            \n",
    "            q1_stanford = _getNLPToks_(unit['q1']['raw'].replace('\"','').replace(\"'\",''))\n",
    "            q2_stanford = _getNLPToks_(unit['q2']['raw'].replace('\"','').replace(\"'\",''))\n",
    "\n",
    "            tree_1 = tb.tree()\n",
    "            tree_2 = tb.tree()\n",
    "\n",
    "            # Generate a tree structure\n",
    "            tb._generateTree_(q1_stanford['parse'], tree_1)\n",
    "            tb._generateTree_(q2_stanford['parse'], tree_2)\n",
    "\n",
    "            # Flip the trees\n",
    "            tb._flipTree_(tree_1)\n",
    "            tb._flipTree_(tree_2)\n",
    "\n",
    "            \n",
    "            (rscore_st, nscore_st) = tk._CollinsDuffy_(tree_1, tree_2, 0.8, 1, 0)\n",
    "\n",
    "            feature_vect[unit['id']] = {\n",
    "                'id':unit['id'], \n",
    "                'cdNorm_st':nscore_st\n",
    "            }\n",
    "            \n",
    "            print(\"Quote error resolved\")\n",
    "            pass \n",
    "\n",
    "        count += 1"
   ]
  },
  {
   "cell_type": "code",
   "execution_count": null,
   "metadata": {
    "collapsed": true
   },
   "outputs": [],
   "source": [
    "conn.close()\n"
   ]
  }
 ],
 "metadata": {
  "kernelspec": {
   "display_name": "Python 3",
   "language": "python",
   "name": "python3"
  },
  "language_info": {
   "codemirror_mode": {
    "name": "ipython",
    "version": 3
   },
   "file_extension": ".py",
   "mimetype": "text/x-python",
   "name": "python",
   "nbconvert_exporter": "python",
   "pygments_lexer": "ipython3",
   "version": "3.5.2"
  }
 },
 "nbformat": 4,
 "nbformat_minor": 0
}
