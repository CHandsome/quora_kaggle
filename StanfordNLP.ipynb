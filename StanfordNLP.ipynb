{
 "cells": [
  {
   "cell_type": "code",
   "execution_count": 1,
   "metadata": {
    "collapsed": true
   },
   "outputs": [],
   "source": [
    "import pandas as pd\n",
    "import numpy as np\n",
    "from pycorenlp import StanfordCoreNLP \n",
    "from collections import defaultdict\n",
    "from itertools import product\n",
    "import re\n",
    "import time"
   ]
  },
  {
   "cell_type": "code",
   "execution_count": 17,
   "metadata": {
    "collapsed": true
   },
   "outputs": [],
   "source": [
    "nlp = StanfordCoreNLP('http://localhost:9000')"
   ]
  },
  {
   "cell_type": "code",
   "execution_count": 29,
   "metadata": {
    "collapsed": true
   },
   "outputs": [],
   "source": [
    "def _getNLPToks_(rawSentence):\n",
    "    output = nlp.annotate(rawSentence, properties={\n",
    "      'annotators': 'tokenize,ssplit,pos,parse',\n",
    "      'outputFormat': 'json'\n",
    "      })\n",
    "    return output['sentences'][0]['parse'].split(\"\\n\")"
   ]
  },
  {
   "cell_type": "code",
   "execution_count": 30,
   "metadata": {
    "collapsed": true
   },
   "outputs": [],
   "source": [
    "def tree(): return defaultdict(tree) # example of autovivification"
   ]
  },
  {
   "cell_type": "code",
   "execution_count": 31,
   "metadata": {
    "collapsed": true
   },
   "outputs": [],
   "source": [
    "def _leadingSpaces_(target):\n",
    "    return len(target) - len(target.lstrip())\n",
    "\n",
    "def _findParent_(curIndent, parid, treeRef):\n",
    "    tmpid = parid\n",
    "    while (curIndent <= treeRef[tmpid]['indent']):\n",
    "        tmpid = treeRef[tmpid]['parid']\n",
    "    return tmpid"
   ]
  },
  {
   "cell_type": "code",
   "execution_count": 32,
   "metadata": {
    "collapsed": false
   },
   "outputs": [],
   "source": [
    "def _generateTree_(rawTokens, treeRef):\n",
    "    \n",
    "    # (, ,) as stand-alone\n",
    "    REGEX_PUNC = r\"^\\s*\\([,!?.'\\\"]\\s*[,!?.'\\\"]\\)\"\n",
    "    # (token\n",
    "    REGEX_OPEN = r\"^\\s*\\(([a-zA-Z0-9_']*)$\"\n",
    "    # (token (tok1 tok2) (tok3 tok4) .... (tokx toky))\n",
    "    REGEX_COMP = r\"^\\s*\\(([a-zA-Z0-9_']*)\\s*((?:[(]([a-zA-Z0-9_;.,?'!]*)\\s*([a-zA-Z0-9_;\\.,?!']*)[)]\\s*)*)\"\n",
    "    # (tok1 tok2)\n",
    "    REGEX_ISOL_IN_COMP = r\"\\(([a-zA-Z0-9_;.,?!']+)\\s*([a-zA-Z0-9_;.,?!']+)\\)\"\n",
    "    # (, ,)\n",
    "    REGEX_PUNC_SOLO = r\"\\([,!?.'\\\"]\\s*[,!?.'\\\"]\\)\"\n",
    "    # (tok1 tok2) as stand-alone\n",
    "    REGEX_SOLO_PAIR = r\"^\\s*\\(([a-zA-Z0-9_']+)\\s*([a-zA-Z0-9_']+)\\)\"\n",
    "    \n",
    "    # manually insert Root token \n",
    "    treeRef[len(treeRef)] = {'curid':0, \n",
    "                             'parid':-1, \n",
    "                             'posOrTok':'ROOT', \n",
    "                             'indent':0}\n",
    "    ID_CTR = 1\n",
    "    \n",
    "    for tok in rawTokens[1:]:\n",
    "        \n",
    "        curIndent = _leadingSpaces_(tok) # the current indent level\n",
    "        parid = _findParent_(curIndent, ID_CTR-1, treeRef) # determine parid\n",
    "            \n",
    "        checkChild = re.match(REGEX_COMP, tok)\n",
    "        if (checkChild):\n",
    "            treeRef[ID_CTR] = {'curid':ID_CTR, \n",
    "                               'parid':parid, \n",
    "                               'posOrTok':checkChild.group(1), \n",
    "                               'indent':curIndent}\n",
    "            upCTR = ID_CTR\n",
    "            ID_CTR += 1\n",
    "            # Eliminate further punctuation\n",
    "\n",
    "            subCheck = re.sub(REGEX_PUNC_SOLO,'',checkChild.group(2))\n",
    "            subs = re.findall(REGEX_ISOL_IN_COMP, subCheck) \n",
    "            for ch in subs:\n",
    "                # THE INDENTING IS WRONG HERE - THE HEIRARCHY IS MESSED UP - check test output\n",
    "                treeRef[ID_CTR] = {'curid':ID_CTR, \n",
    "                                   'parid':upCTR, \n",
    "                                   'posOrTok':ch[0], \n",
    "                                   'indent':curIndent+2}\n",
    "                ID_CTR += 1\n",
    "                treeRef[ID_CTR] = {'curid':ID_CTR, \n",
    "                                   'parid':ID_CTR-1, \n",
    "                                   'posOrTok':ch[1], \n",
    "                                   'indent':curIndent+2}\n",
    "                ID_CTR += 1\n",
    "            continue\n",
    "            \n",
    "            \n",
    "        checkSingle = re.match(REGEX_SOLO_PAIR, tok)\n",
    "        if (checkSingle):\n",
    "            treeRef[ID_CTR] = {'curid':ID_CTR, \n",
    "                               'parid':parid, \n",
    "                               'posOrTok':checkSingle.group(1), \n",
    "                               'indent':curIndent+2}\n",
    "            ID_CTR += 1\n",
    "            treeRef[ID_CTR] = {'curid':ID_CTR, \n",
    "                               'parid':ID_CTR-1, \n",
    "                               'posOrTok':checkSingle.group(2), \n",
    "                               'indent':curIndent+2}\n",
    "            ID_CTR += 1\n",
    "            continue\n",
    "\n",
    "\n",
    "        checkMatch = re.match(REGEX_OPEN, tok)\n",
    "        if (checkMatch):\n",
    "            treeRef[ID_CTR] = {'curid':ID_CTR, \n",
    "                               'parid':parid, \n",
    "                               'posOrTok':checkMatch.group(1), \n",
    "                               'indent':curIndent}\n",
    "            ID_CTR += 1\n",
    "            continue\n",
    "\n",
    "        checkPunc = re.match(REGEX_PUNC, tok)\n",
    "        if (checkPunc): # ignore punctuation\n",
    "            continue\n",
    "\n",
    "    return\n",
    "            "
   ]
  },
  {
   "cell_type": "code",
   "execution_count": 33,
   "metadata": {
    "collapsed": true
   },
   "outputs": [],
   "source": [
    "'''\n",
    "_generateTree_() method only provides tree (dict representation) listing parents. \n",
    "This is a naive method to add a \"children\" field to the tree - necessary for optimal Tree Kernel methods.\n",
    "Also create the \"childrenTok\" that stores the physical tokens of the children. \n",
    "'''\n",
    "def _flipTree_(treeRef):\n",
    "    for k,v in treeRef.items():\n",
    "        chSet = {sk:sv for (sk,sv) in treeRef.items() if sv['parid'] == k}\n",
    "        treeRef[k]['children'] = set(chSet.keys())\n",
    "        treeRef[k]['childrenTok'] = {d['posOrTok'] for d in chSet.values()}"
   ]
  },
  {
   "cell_type": "code",
   "execution_count": 34,
   "metadata": {
    "collapsed": false
   },
   "outputs": [],
   "source": [
    "'''\n",
    "Implementation of the Colins-Duffy or Subset-Tree (SST) Kernel\n",
    "'''\n",
    "\n",
    "def _isLeaf_(tree, parentNode):\n",
    "    return (len(tree[parentNode]['children']) == 0)\n",
    "\n",
    "def _isPreterminal_(tree, parentNode):\n",
    "    for idx in tree[parentNode]['children']:\n",
    "        if not _isLeaf_(tree, idx):\n",
    "            return False\n",
    "    return True\n",
    "\n",
    "def _cdHelper_(tree1, tree2, node1, node2, store, lam):    \n",
    "    # No duplicate computations\n",
    "    if store[node1, node2] >= 0:\n",
    "        return\n",
    "    \n",
    "    # Leaves yield similarity score by definition\n",
    "    if (_isLeaf_(tree1, node1) or _isLeaf_(tree2, node2)):\n",
    "        store[node1, node2] = 0\n",
    "        return\n",
    "    \n",
    "    # same parent node\n",
    "    if tree1[node1]['posOrTok'] == tree2[node2]['posOrTok']: \n",
    "        # same children tokens\n",
    "        if len(tree1[node1]['childrenTok'].symmetric_difference(tree2[node2]['childrenTok'])) == 0:\n",
    "            # Check if both nodes are pre-terminal\n",
    "            if _isPreterminal_(tree1, node1) and _isPreterminal_(tree2, node2):\n",
    "                store[node1, node2] = lam\n",
    "                return\n",
    "            # Not pre-terminal. Recurse among the children of both token trees. \n",
    "            else:              \n",
    "                combs = product(tree1[node1]['children'], tree2[node2]['children'])\n",
    "                runningTotal = 0\n",
    "                for idx, c in enumerate(combs):\n",
    "                    _cdHelper_(tree1, tree2, c[0], c[1], store, lam) # Recursively run helper\n",
    "                    runningTotal += (1 + store[c[0],c[1]])\n",
    "                    \n",
    "                store[node1, node2] = lam * runningTotal\n",
    "                return\n",
    "        else:\n",
    "            store[node1, node2] = 0\n",
    "    else: # parent nodes are different \n",
    "        store[node1, node2] = 0\n",
    "        return \n",
    "\n",
    "def _cdKernel_(tree1, tree2, lam):\n",
    "    # Fill the initial state of the store \n",
    "    store = np.empty((len(tree1), len(tree2)))\n",
    "    store.fill(-1)\n",
    "    \n",
    "    # O(N^2) to compute the tree dot product\n",
    "    for i in range(len(tree1)):\n",
    "        for j in range(len(tree2)):\n",
    "            _cdHelper_(tree1, tree2, i, j, store, lam)\n",
    "            \n",
    "    return store.sum()\n",
    "            \n",
    "    "
   ]
  },
  {
   "cell_type": "code",
   "execution_count": null,
   "metadata": {
    "collapsed": true
   },
   "outputs": [],
   "source": []
  },
  {
   "cell_type": "markdown",
   "metadata": {
    "collapsed": true
   },
   "source": [
    "## Test: Tree Generation and Collins-Duffy Kernel"
   ]
  },
  {
   "cell_type": "code",
   "execution_count": 35,
   "metadata": {
    "collapsed": true
   },
   "outputs": [],
   "source": [
    "test_b1 = \"How do I reduce my thighs?\"\n",
    "test_b2 = \"What can I do to reduce my belly?\"\n",
    "\n",
    "# test_b1 = \"I tom?\"\n",
    "# test_b2 = \"I, Claudius?\""
   ]
  },
  {
   "cell_type": "code",
   "execution_count": 36,
   "metadata": {
    "collapsed": false
   },
   "outputs": [
    {
     "name": "stdout",
     "output_type": "stream",
     "text": [
      "--- 0.16412806510925293 seconds ---\n",
      "--- 0.1654829978942871 seconds ---\n",
      "--- 0.1657099723815918 seconds ---\n",
      "--- 0.16646099090576172 seconds ---\n",
      "Score: 7.68\n"
     ]
    }
   ],
   "source": [
    "start_time = time.time()\n",
    "\n",
    "tree_b1 = tree()\n",
    "tree_b2 = tree()\n",
    "\n",
    "# Generate raw tokens using Stanford Core NLP\n",
    "\n",
    "toks_b1 = _getNLPToks_(test_b1)\n",
    "toks_b2 = _getNLPToks_(test_b2)\n",
    "print(\"--- %s seconds ---\" % (time.time() - start_time)) # tokenize\n",
    "\n",
    "# Generate a tree structure\n",
    "_generateTree_(toks_b1, tree_b1)\n",
    "_generateTree_(toks_b2, tree_b2)\n",
    "\n",
    "print(\"--- %s seconds ---\" % (time.time() - start_time)) # generate tree\n",
    "\n",
    "# Flip the trees\n",
    "_flipTree_(tree_b1)\n",
    "_flipTree_(tree_b2)\n",
    "\n",
    "print(\"--- %s seconds ---\" % (time.time() - start_time)) # flip tree\n",
    "\n",
    "score2 = _cdKernel_(tree_b1, tree_b2, 0.8)\n",
    "print(\"--- %s seconds ---\" % (time.time() - start_time)) # tree kernel\n",
    "\n",
    "print(\"Score: %s\" % (score2))\n"
   ]
  },
  {
   "cell_type": "code",
   "execution_count": null,
   "metadata": {
    "collapsed": false
   },
   "outputs": [],
   "source": [
    "toks_b1"
   ]
  },
  {
   "cell_type": "code",
   "execution_count": 57,
   "metadata": {
    "collapsed": false
   },
   "outputs": [
    {
     "name": "stdout",
     "output_type": "stream",
     "text": [
      "--- 0.04473996162414551 seconds ---\n"
     ]
    }
   ],
   "source": [
    "start_time = time.time()\n",
    "output = nlp.annotate(\"What can I do to reduce my belly?\", properties={\n",
    "  'annotators': 'tokenize,ssplit,pos,depparse,parse',\n",
    "  'outputFormat': 'json'\n",
    "  })\n",
    "print(\"--- %s seconds ---\" % (time.time() - start_time)) # tree kernel\n"
   ]
  },
  {
   "cell_type": "markdown",
   "metadata": {},
   "source": []
  },
  {
   "cell_type": "code",
   "execution_count": null,
   "metadata": {
    "collapsed": true
   },
   "outputs": [],
   "source": []
  },
  {
   "cell_type": "code",
   "execution_count": null,
   "metadata": {
    "collapsed": true
   },
   "outputs": [],
   "source": []
  }
 ],
 "metadata": {
  "kernelspec": {
   "display_name": "Python 3",
   "language": "python",
   "name": "python3"
  },
  "language_info": {
   "codemirror_mode": {
    "name": "ipython",
    "version": 3
   },
   "file_extension": ".py",
   "mimetype": "text/x-python",
   "name": "python",
   "nbconvert_exporter": "python",
   "pygments_lexer": "ipython3",
   "version": "3.5.2"
  }
 },
 "nbformat": 4,
 "nbformat_minor": 0
}
