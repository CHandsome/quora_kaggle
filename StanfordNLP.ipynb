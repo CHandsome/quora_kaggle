{
 "cells": [
  {
   "cell_type": "code",
   "execution_count": 22,
   "metadata": {
    "collapsed": true
   },
   "outputs": [],
   "source": [
    "import pandas as pd\n",
    "import numpy as np\n",
    "from pycorenlp import StanfordCoreNLP \n",
    "from collections import defaultdict\n",
    "from itertools import product\n",
    "import re\n",
    "import time"
   ]
  },
  {
   "cell_type": "code",
   "execution_count": 23,
   "metadata": {
    "collapsed": true
   },
   "outputs": [],
   "source": [
    "nlp = StanfordCoreNLP('http://localhost:9000')"
   ]
  },
  {
   "cell_type": "code",
   "execution_count": 66,
   "metadata": {
    "collapsed": true
   },
   "outputs": [],
   "source": [
    "def _getNLPToks_(rawSentence):\n",
    "    output = nlp.annotate(rawSentence, properties={\n",
    "      'annotators': 'parse',\n",
    "      'outputFormat': 'json'\n",
    "      })\n",
    "    return output['sentences'][0]['parse'].split(\"\\n\")"
   ]
  },
  {
   "cell_type": "code",
   "execution_count": 26,
   "metadata": {
    "collapsed": true
   },
   "outputs": [],
   "source": [
    "def tree(): return defaultdict(tree) # example of autovivification"
   ]
  },
  {
   "cell_type": "code",
   "execution_count": 27,
   "metadata": {
    "collapsed": true
   },
   "outputs": [],
   "source": [
    "def _leadingSpaces_(target):\n",
    "    return len(target) - len(target.lstrip())\n",
    "\n",
    "def _findParent_(curIndent, parid, treeRef):\n",
    "    tmpid = parid\n",
    "    while (curIndent <= treeRef[tmpid]['indent']):\n",
    "        tmpid = treeRef[tmpid]['parid']\n",
    "    return tmpid"
   ]
  },
  {
   "cell_type": "code",
   "execution_count": 28,
   "metadata": {
    "collapsed": false
   },
   "outputs": [],
   "source": [
    "def _generateTree_(rawTokens, treeRef):\n",
    "    \n",
    "    # (, ,) as stand-alone\n",
    "    REGEX_PUNC = r\"^\\s*\\([,!?.'\\\"]\\s*[,!?.'\\\"]\\)\"\n",
    "    # (token\n",
    "    REGEX_OPEN = r\"^\\s*\\(([a-zA-Z0-9_']*)$\"\n",
    "    # (token (tok1 tok2) (tok3 tok4) .... (tokx toky))\n",
    "    REGEX_COMP = r\"^\\s*\\(([a-zA-Z0-9_']*)\\s*((?:[(]([a-zA-Z0-9_;.,?'!]*)\\s*([a-zA-Z0-9_;\\.,?!']*)[)]\\s*)*)\"\n",
    "    # (tok1 tok2)\n",
    "    REGEX_ISOL_IN_COMP = r\"\\(([a-zA-Z0-9_;.,?!']+)\\s*([a-zA-Z0-9_;.,?!']+)\\)\"\n",
    "    # (, ,)\n",
    "    REGEX_PUNC_SOLO = r\"\\([,!?.'\\\"]\\s*[,!?.'\\\"]\\)\"\n",
    "    # (tok1 tok2) as stand-alone\n",
    "    REGEX_SOLO_PAIR = r\"^\\s*\\(([a-zA-Z0-9_;.,?!']+)\\s*([a-zA-Z0-9_;.,?!']+)\\)\"\n",
    "    \n",
    "    # manually insert Root token \n",
    "    treeRef[len(treeRef)] = {'curid':0, \n",
    "                             'parid':-1, \n",
    "                             'posOrTok':'ROOT', \n",
    "                             'indent':0}\n",
    "    ID_CTR = 1\n",
    "    \n",
    "    for tok in rawTokens[1:]:\n",
    "        \n",
    "        curIndent = _leadingSpaces_(tok) # the current indent level\n",
    "        parid = _findParent_(curIndent, ID_CTR-1, treeRef) # determine parid\n",
    "            \n",
    "        checkChild = re.match(REGEX_COMP, tok)\n",
    "        if (checkChild):\n",
    "            treeRef[ID_CTR] = {'curid':ID_CTR, \n",
    "                               'parid':parid, \n",
    "                               'posOrTok':checkChild.group(1), \n",
    "                               'indent':curIndent}\n",
    "            upCTR = ID_CTR\n",
    "            ID_CTR += 1\n",
    "            # Eliminate further punctuation\n",
    "\n",
    "            subCheck = re.sub(REGEX_PUNC_SOLO,'',checkChild.group(2))\n",
    "            subs = re.findall(REGEX_ISOL_IN_COMP, subCheck) \n",
    "            for ch in subs:\n",
    "                # THE INDENTING IS WRONG HERE - THE HEIRARCHY IS MESSED UP - check test output\n",
    "                treeRef[ID_CTR] = {'curid':ID_CTR, \n",
    "                                   'parid':upCTR, \n",
    "                                   'posOrTok':ch[0], \n",
    "                                   'indent':curIndent+2}\n",
    "                ID_CTR += 1\n",
    "                treeRef[ID_CTR] = {'curid':ID_CTR, \n",
    "                                   'parid':ID_CTR-1, \n",
    "                                   'posOrTok':ch[1], \n",
    "                                   'indent':curIndent+2}\n",
    "                ID_CTR += 1\n",
    "            continue\n",
    "            \n",
    "            \n",
    "        checkSingle = re.match(REGEX_SOLO_PAIR, tok)\n",
    "        if (checkSingle):\n",
    "            treeRef[ID_CTR] = {'curid':ID_CTR, \n",
    "                               'parid':parid, \n",
    "                               'posOrTok':checkSingle.group(1), \n",
    "                               'indent':curIndent+2}\n",
    "            ID_CTR += 1\n",
    "            treeRef[ID_CTR] = {'curid':ID_CTR, \n",
    "                               'parid':ID_CTR-1, \n",
    "                               'posOrTok':checkSingle.group(2), \n",
    "                               'indent':curIndent+2}\n",
    "            ID_CTR += 1\n",
    "            continue\n",
    "\n",
    "\n",
    "        checkMatch = re.match(REGEX_OPEN, tok)\n",
    "        if (checkMatch):\n",
    "            treeRef[ID_CTR] = {'curid':ID_CTR, \n",
    "                               'parid':parid, \n",
    "                               'posOrTok':checkMatch.group(1), \n",
    "                               'indent':curIndent}\n",
    "            ID_CTR += 1\n",
    "            continue\n",
    "\n",
    "        checkPunc = re.match(REGEX_PUNC, tok)\n",
    "        if (checkPunc): # ignore punctuation\n",
    "            continue\n",
    "\n",
    "    return\n",
    "            "
   ]
  },
  {
   "cell_type": "code",
   "execution_count": 29,
   "metadata": {
    "collapsed": true
   },
   "outputs": [],
   "source": [
    "'''\n",
    "_generateTree_() method only provides tree (dict representation) listing parents. \n",
    "This is a naive method to add a \"children\" field to the tree - necessary for optimal Tree Kernel methods \n",
    "'''\n",
    "def _flipTree_(treeRef):\n",
    "    for k,v in treeRef.items():\n",
    "        treeRef[k]['children'] = set({sk:sv for (sk,sv) in treeRef.items() if sv['parid'] == k}.keys())\n"
   ]
  },
  {
   "cell_type": "code",
   "execution_count": 88,
   "metadata": {
    "collapsed": true
   },
   "outputs": [],
   "source": [
    "'''\n",
    "Implementation of the Colins-Duffy or Subset-Tree (SST) Kernel\n",
    "'''\n",
    "\n",
    "def _isLeaf_(tree, parentNode):\n",
    "    return (len(tree[parentNode]['children']) == 0)\n",
    "\n",
    "def _isPreterminal_(tree, parentNode):\n",
    "    for idx in tree[parentNode]['children']:\n",
    "        if not _isLeaf_(tree, idx):\n",
    "            return False\n",
    "    return True\n",
    "\n",
    "def _cdHelper_(tree1, tree2, node1, node2, store, lam):\n",
    "    # use helper store\n",
    "    if store[node1, node2] > -1:\n",
    "        return store[node1, node2]\n",
    "    \n",
    "    # Leaves cannot have 0 similarity\n",
    "    if _isLeaf_(tree1, node1) or _isLeaf_(tree2, node2):\n",
    "        store[node1, node2] = 0\n",
    "        return 0\n",
    "    \n",
    "    # same productions\n",
    "    if len(tree1[node1]['children'].symmetric_difference(tree2[node2]['children'])) == 0:\n",
    "        if _isPreterminal_(tree1, node1) and _isPreterminal_(tree2, node2):\n",
    "            store[node1, node2] = lam\n",
    "            return lam\n",
    "        else:\n",
    "            combs = product(tree1[node1]['children'], tree2[node2]['children'])\n",
    "            subv = np.zeros(len(tree1[node1]['children']) * len(tree2[node2]['children']))\n",
    "            for idx, c in enumerate(combs):\n",
    "                subv[idx] = _cdHelper_(tree1, tree2, c[0], c[1], store, lam)\n",
    "            subv += 1\n",
    "            return lam * subv.prod()\n",
    "    else:\n",
    "        return 0\n",
    "\n",
    "def _cdKernel_(tree1, tree2, lam):\n",
    "    store = np.empty((len(tree1), len(tree2)))\n",
    "    store.fill(-1)\n",
    "    for i in range(len(tree1)):\n",
    "        for j in range(len(tree2)):\n",
    "            store[i,j] = _cdHelper_(tree1, tree2, i, j, store, lam)\n",
    "            \n",
    "    return store.sum()\n",
    "            \n",
    "    "
   ]
  },
  {
   "cell_type": "code",
   "execution_count": null,
   "metadata": {
    "collapsed": true
   },
   "outputs": [],
   "source": []
  },
  {
   "cell_type": "markdown",
   "metadata": {},
   "source": [
    "## Test: Tree Generation"
   ]
  },
  {
   "cell_type": "code",
   "execution_count": 80,
   "metadata": {
    "collapsed": false
   },
   "outputs": [
    {
     "name": "stdout",
     "output_type": "stream",
     "text": [
      "--- 0.10495209693908691 seconds ---\n"
     ]
    }
   ],
   "source": [
    "start_time = time.time()\n",
    "for i in range(1000):\n",
    "    treeTest = tree()\n",
    "    _generateTree_(raw_toks, treeTest)\n",
    "    _flipTree_(treeTest)\n",
    "print(\"--- %s seconds ---\" % (time.time() - start_time))\n"
   ]
  },
  {
   "cell_type": "markdown",
   "metadata": {
    "collapsed": true
   },
   "source": [
    "## Test: Tree Generation and Collins-Duffy Kernel"
   ]
  },
  {
   "cell_type": "code",
   "execution_count": 81,
   "metadata": {
    "collapsed": true
   },
   "outputs": [],
   "source": [
    "test_a1 = \"How do I reduce my thighs?\"\n",
    "test_a2 = \"What can I do to reduce my belly?\"\n",
    "\n",
    "test_b1 = \"What is it like to die from a tylenol overdose?\"\n",
    "test_b2 = \"What would it feel like to die of a heroin overdose?\""
   ]
  },
  {
   "cell_type": "code",
   "execution_count": 89,
   "metadata": {
    "collapsed": false
   },
   "outputs": [
    {
     "name": "stdout",
     "output_type": "stream",
     "text": [
      "--- 0.042402029037475586 seconds ---\n"
     ]
    }
   ],
   "source": [
    "start_time = time.time()\n",
    "\n",
    "tree_a1 = tree()\n",
    "tree_a2 = tree()\n",
    "\n",
    "# Generate raw tokens using Stanford Core NLP\n",
    "toks_a1 = _getNLPToks_(test_a1)\n",
    "toks_a2 = _getNLPToks_(test_a2)\n",
    "\n",
    "# Generate a tree structure\n",
    "_generateTree_(toks_a1, tree_a1)\n",
    "_generateTree_(toks_a2, tree_a2)\n",
    "\n",
    "# Flip the trees\n",
    "_flipTree_(tree_a1)\n",
    "_flipTree_(tree_a2)\n",
    "\n",
    "score = _cdKernel_(tree_a1, tree_a2, 0.8)\n",
    "print(\"--- %s seconds ---\" % (time.time() - start_time))\n"
   ]
  },
  {
   "cell_type": "code",
   "execution_count": 90,
   "metadata": {
    "collapsed": false
   },
   "outputs": [
    {
     "data": {
      "text/plain": [
       "16.893184000000005"
      ]
     },
     "execution_count": 90,
     "metadata": {},
     "output_type": "execute_result"
    }
   ],
   "source": [
    "score"
   ]
  },
  {
   "cell_type": "code",
   "execution_count": 91,
   "metadata": {
    "collapsed": false
   },
   "outputs": [
    {
     "data": {
      "text/plain": [
       "'How do I reduce my thighs?'"
      ]
     },
     "execution_count": 91,
     "metadata": {},
     "output_type": "execute_result"
    }
   ],
   "source": [
    "test_a1"
   ]
  },
  {
   "cell_type": "code",
   "execution_count": 92,
   "metadata": {
    "collapsed": false
   },
   "outputs": [
    {
     "name": "stdout",
     "output_type": "stream",
     "text": [
      "--- 0.08159899711608887 seconds ---\n"
     ]
    }
   ],
   "source": [
    "start_time = time.time()\n",
    "\n",
    "tree_b1 = tree()\n",
    "tree_b2 = tree()\n",
    "\n",
    "# Generate raw tokens using Stanford Core NLP\n",
    "toks_b1 = _getNLPToks_(test_b1)\n",
    "toks_b2 = _getNLPToks_(test_b2)\n",
    "\n",
    "# Generate a tree structure\n",
    "_generateTree_(toks_b1, tree_b1)\n",
    "_generateTree_(toks_b2, tree_b2)\n",
    "\n",
    "# Flip the trees\n",
    "_flipTree_(tree_b1)\n",
    "_flipTree_(tree_b2)\n",
    "\n",
    "score2 = _cdKernel_(tree_b1, tree_b2, 0.8)\n",
    "print(\"--- %s seconds ---\" % (time.time() - start_time))\n"
   ]
  },
  {
   "cell_type": "code",
   "execution_count": null,
   "metadata": {
    "collapsed": true
   },
   "outputs": [],
   "source": []
  }
 ],
 "metadata": {
  "kernelspec": {
   "display_name": "Python 3",
   "language": "python",
   "name": "python3"
  },
  "language_info": {
   "codemirror_mode": {
    "name": "ipython",
    "version": 3
   },
   "file_extension": ".py",
   "mimetype": "text/x-python",
   "name": "python",
   "nbconvert_exporter": "python",
   "pygments_lexer": "ipython3",
   "version": "3.5.2"
  }
 },
 "nbformat": 4,
 "nbformat_minor": 0
}
