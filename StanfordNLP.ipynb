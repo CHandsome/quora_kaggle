{
 "cells": [
  {
   "cell_type": "code",
   "execution_count": 1,
   "metadata": {
    "collapsed": true
   },
   "outputs": [],
   "source": [
    "import pandas as pd\n",
    "import numpy as np\n",
    "from pycorenlp import StanfordCoreNLP \n",
    "from collections import defaultdict\n",
    "import re"
   ]
  },
  {
   "cell_type": "code",
   "execution_count": 2,
   "metadata": {
    "collapsed": true
   },
   "outputs": [],
   "source": [
    "nlp = StanfordCoreNLP('http://localhost:9000')"
   ]
  },
  {
   "cell_type": "code",
   "execution_count": 3,
   "metadata": {
    "collapsed": false
   },
   "outputs": [],
   "source": [
    "text = \"This time around, they're moving even faster\"\n",
    "text = \"The real question is, who's afraid of Virgina Woolf?\"\n",
    "\n",
    "\n",
    "output = nlp.annotate(text, properties={\n",
    "  'annotators': 'parse',\n",
    "  'outputFormat': 'json'\n",
    "  })"
   ]
  },
  {
   "cell_type": "code",
   "execution_count": 4,
   "metadata": {
    "collapsed": false
   },
   "outputs": [
    {
     "data": {
      "text/plain": [
       "{'sentences': [{'basicDependencies': [{'dep': 'ROOT',\n",
       "     'dependent': 4,\n",
       "     'dependentGloss': 'is',\n",
       "     'governor': 0,\n",
       "     'governorGloss': 'ROOT'},\n",
       "    {'dep': 'det',\n",
       "     'dependent': 1,\n",
       "     'dependentGloss': 'The',\n",
       "     'governor': 3,\n",
       "     'governorGloss': 'question'},\n",
       "    {'dep': 'amod',\n",
       "     'dependent': 2,\n",
       "     'dependentGloss': 'real',\n",
       "     'governor': 3,\n",
       "     'governorGloss': 'question'},\n",
       "    {'dep': 'nsubj',\n",
       "     'dependent': 3,\n",
       "     'dependentGloss': 'question',\n",
       "     'governor': 4,\n",
       "     'governorGloss': 'is'},\n",
       "    {'dep': 'punct',\n",
       "     'dependent': 5,\n",
       "     'dependentGloss': ',',\n",
       "     'governor': 4,\n",
       "     'governorGloss': 'is'},\n",
       "    {'dep': 'nsubj',\n",
       "     'dependent': 6,\n",
       "     'dependentGloss': 'who',\n",
       "     'governor': 8,\n",
       "     'governorGloss': 'afraid'},\n",
       "    {'dep': 'cop',\n",
       "     'dependent': 7,\n",
       "     'dependentGloss': \"'s\",\n",
       "     'governor': 8,\n",
       "     'governorGloss': 'afraid'},\n",
       "    {'dep': 'ccomp',\n",
       "     'dependent': 8,\n",
       "     'dependentGloss': 'afraid',\n",
       "     'governor': 4,\n",
       "     'governorGloss': 'is'},\n",
       "    {'dep': 'case',\n",
       "     'dependent': 9,\n",
       "     'dependentGloss': 'of',\n",
       "     'governor': 11,\n",
       "     'governorGloss': 'Woolf'},\n",
       "    {'dep': 'compound',\n",
       "     'dependent': 10,\n",
       "     'dependentGloss': 'Virgina',\n",
       "     'governor': 11,\n",
       "     'governorGloss': 'Woolf'},\n",
       "    {'dep': 'dep',\n",
       "     'dependent': 11,\n",
       "     'dependentGloss': 'Woolf',\n",
       "     'governor': 8,\n",
       "     'governorGloss': 'afraid'},\n",
       "    {'dep': 'punct',\n",
       "     'dependent': 12,\n",
       "     'dependentGloss': '?',\n",
       "     'governor': 8,\n",
       "     'governorGloss': 'afraid'}],\n",
       "   'enhancedDependencies': [{'dep': 'ROOT',\n",
       "     'dependent': 4,\n",
       "     'dependentGloss': 'is',\n",
       "     'governor': 0,\n",
       "     'governorGloss': 'ROOT'},\n",
       "    {'dep': 'det',\n",
       "     'dependent': 1,\n",
       "     'dependentGloss': 'The',\n",
       "     'governor': 3,\n",
       "     'governorGloss': 'question'},\n",
       "    {'dep': 'amod',\n",
       "     'dependent': 2,\n",
       "     'dependentGloss': 'real',\n",
       "     'governor': 3,\n",
       "     'governorGloss': 'question'},\n",
       "    {'dep': 'nsubj',\n",
       "     'dependent': 3,\n",
       "     'dependentGloss': 'question',\n",
       "     'governor': 4,\n",
       "     'governorGloss': 'is'},\n",
       "    {'dep': 'punct',\n",
       "     'dependent': 5,\n",
       "     'dependentGloss': ',',\n",
       "     'governor': 4,\n",
       "     'governorGloss': 'is'},\n",
       "    {'dep': 'nsubj',\n",
       "     'dependent': 6,\n",
       "     'dependentGloss': 'who',\n",
       "     'governor': 8,\n",
       "     'governorGloss': 'afraid'},\n",
       "    {'dep': 'cop',\n",
       "     'dependent': 7,\n",
       "     'dependentGloss': \"'s\",\n",
       "     'governor': 8,\n",
       "     'governorGloss': 'afraid'},\n",
       "    {'dep': 'ccomp',\n",
       "     'dependent': 8,\n",
       "     'dependentGloss': 'afraid',\n",
       "     'governor': 4,\n",
       "     'governorGloss': 'is'},\n",
       "    {'dep': 'case',\n",
       "     'dependent': 9,\n",
       "     'dependentGloss': 'of',\n",
       "     'governor': 11,\n",
       "     'governorGloss': 'Woolf'},\n",
       "    {'dep': 'compound',\n",
       "     'dependent': 10,\n",
       "     'dependentGloss': 'Virgina',\n",
       "     'governor': 11,\n",
       "     'governorGloss': 'Woolf'},\n",
       "    {'dep': 'dep',\n",
       "     'dependent': 11,\n",
       "     'dependentGloss': 'Woolf',\n",
       "     'governor': 8,\n",
       "     'governorGloss': 'afraid'},\n",
       "    {'dep': 'punct',\n",
       "     'dependent': 12,\n",
       "     'dependentGloss': '?',\n",
       "     'governor': 8,\n",
       "     'governorGloss': 'afraid'}],\n",
       "   'enhancedPlusPlusDependencies': [{'dep': 'ROOT',\n",
       "     'dependent': 4,\n",
       "     'dependentGloss': 'is',\n",
       "     'governor': 0,\n",
       "     'governorGloss': 'ROOT'},\n",
       "    {'dep': 'det',\n",
       "     'dependent': 1,\n",
       "     'dependentGloss': 'The',\n",
       "     'governor': 3,\n",
       "     'governorGloss': 'question'},\n",
       "    {'dep': 'amod',\n",
       "     'dependent': 2,\n",
       "     'dependentGloss': 'real',\n",
       "     'governor': 3,\n",
       "     'governorGloss': 'question'},\n",
       "    {'dep': 'nsubj',\n",
       "     'dependent': 3,\n",
       "     'dependentGloss': 'question',\n",
       "     'governor': 4,\n",
       "     'governorGloss': 'is'},\n",
       "    {'dep': 'punct',\n",
       "     'dependent': 5,\n",
       "     'dependentGloss': ',',\n",
       "     'governor': 4,\n",
       "     'governorGloss': 'is'},\n",
       "    {'dep': 'nsubj',\n",
       "     'dependent': 6,\n",
       "     'dependentGloss': 'who',\n",
       "     'governor': 8,\n",
       "     'governorGloss': 'afraid'},\n",
       "    {'dep': 'cop',\n",
       "     'dependent': 7,\n",
       "     'dependentGloss': \"'s\",\n",
       "     'governor': 8,\n",
       "     'governorGloss': 'afraid'},\n",
       "    {'dep': 'ccomp',\n",
       "     'dependent': 8,\n",
       "     'dependentGloss': 'afraid',\n",
       "     'governor': 4,\n",
       "     'governorGloss': 'is'},\n",
       "    {'dep': 'case',\n",
       "     'dependent': 9,\n",
       "     'dependentGloss': 'of',\n",
       "     'governor': 11,\n",
       "     'governorGloss': 'Woolf'},\n",
       "    {'dep': 'compound',\n",
       "     'dependent': 10,\n",
       "     'dependentGloss': 'Virgina',\n",
       "     'governor': 11,\n",
       "     'governorGloss': 'Woolf'},\n",
       "    {'dep': 'dep',\n",
       "     'dependent': 11,\n",
       "     'dependentGloss': 'Woolf',\n",
       "     'governor': 8,\n",
       "     'governorGloss': 'afraid'},\n",
       "    {'dep': 'punct',\n",
       "     'dependent': 12,\n",
       "     'dependentGloss': '?',\n",
       "     'governor': 8,\n",
       "     'governorGloss': 'afraid'}],\n",
       "   'index': 0,\n",
       "   'parse': \"(ROOT\\n  (S\\n    (NP (DT The) (JJ real) (NN question))\\n    (VP (VBZ is) (, ,)\\n      (SBARQ\\n        (WHNP (WP who))\\n        (SQ (VBZ 's)\\n          (ADJP (JJ afraid))\\n          (PP (IN of)\\n            (NP (NNP Virgina) (NNP Woolf))))\\n        (. ?)))))\",\n",
       "   'tokens': [{'after': ' ',\n",
       "     'before': '',\n",
       "     'characterOffsetBegin': 0,\n",
       "     'characterOffsetEnd': 3,\n",
       "     'index': 1,\n",
       "     'originalText': 'The',\n",
       "     'pos': 'DT',\n",
       "     'word': 'The'},\n",
       "    {'after': ' ',\n",
       "     'before': ' ',\n",
       "     'characterOffsetBegin': 4,\n",
       "     'characterOffsetEnd': 8,\n",
       "     'index': 2,\n",
       "     'originalText': 'real',\n",
       "     'pos': 'JJ',\n",
       "     'word': 'real'},\n",
       "    {'after': ' ',\n",
       "     'before': ' ',\n",
       "     'characterOffsetBegin': 9,\n",
       "     'characterOffsetEnd': 17,\n",
       "     'index': 3,\n",
       "     'originalText': 'question',\n",
       "     'pos': 'NN',\n",
       "     'word': 'question'},\n",
       "    {'after': '',\n",
       "     'before': ' ',\n",
       "     'characterOffsetBegin': 18,\n",
       "     'characterOffsetEnd': 20,\n",
       "     'index': 4,\n",
       "     'originalText': 'is',\n",
       "     'pos': 'VBZ',\n",
       "     'word': 'is'},\n",
       "    {'after': ' ',\n",
       "     'before': '',\n",
       "     'characterOffsetBegin': 20,\n",
       "     'characterOffsetEnd': 21,\n",
       "     'index': 5,\n",
       "     'originalText': ',',\n",
       "     'pos': ',',\n",
       "     'word': ','},\n",
       "    {'after': '',\n",
       "     'before': ' ',\n",
       "     'characterOffsetBegin': 22,\n",
       "     'characterOffsetEnd': 25,\n",
       "     'index': 6,\n",
       "     'originalText': 'who',\n",
       "     'pos': 'WP',\n",
       "     'word': 'who'},\n",
       "    {'after': ' ',\n",
       "     'before': '',\n",
       "     'characterOffsetBegin': 25,\n",
       "     'characterOffsetEnd': 27,\n",
       "     'index': 7,\n",
       "     'originalText': \"'s\",\n",
       "     'pos': 'VBZ',\n",
       "     'word': \"'s\"},\n",
       "    {'after': ' ',\n",
       "     'before': ' ',\n",
       "     'characterOffsetBegin': 28,\n",
       "     'characterOffsetEnd': 34,\n",
       "     'index': 8,\n",
       "     'originalText': 'afraid',\n",
       "     'pos': 'JJ',\n",
       "     'word': 'afraid'},\n",
       "    {'after': ' ',\n",
       "     'before': ' ',\n",
       "     'characterOffsetBegin': 35,\n",
       "     'characterOffsetEnd': 37,\n",
       "     'index': 9,\n",
       "     'originalText': 'of',\n",
       "     'pos': 'IN',\n",
       "     'word': 'of'},\n",
       "    {'after': ' ',\n",
       "     'before': ' ',\n",
       "     'characterOffsetBegin': 38,\n",
       "     'characterOffsetEnd': 45,\n",
       "     'index': 10,\n",
       "     'originalText': 'Virgina',\n",
       "     'pos': 'NNP',\n",
       "     'word': 'Virgina'},\n",
       "    {'after': '',\n",
       "     'before': ' ',\n",
       "     'characterOffsetBegin': 46,\n",
       "     'characterOffsetEnd': 51,\n",
       "     'index': 11,\n",
       "     'originalText': 'Woolf',\n",
       "     'pos': 'NNP',\n",
       "     'word': 'Woolf'},\n",
       "    {'after': '',\n",
       "     'before': '',\n",
       "     'characterOffsetBegin': 51,\n",
       "     'characterOffsetEnd': 52,\n",
       "     'index': 12,\n",
       "     'originalText': '?',\n",
       "     'pos': '.',\n",
       "     'word': '?'}]}]}"
      ]
     },
     "execution_count": 4,
     "metadata": {},
     "output_type": "execute_result"
    }
   ],
   "source": [
    "output"
   ]
  },
  {
   "cell_type": "code",
   "execution_count": 5,
   "metadata": {
    "collapsed": false
   },
   "outputs": [
    {
     "name": "stdout",
     "output_type": "stream",
     "text": [
      "(ROOT\n",
      "  (S\n",
      "    (NP (DT The) (JJ real) (NN question))\n",
      "    (VP (VBZ is) (, ,)\n",
      "      (SBARQ\n",
      "        (WHNP (WP who))\n",
      "        (SQ (VBZ 's)\n",
      "          (ADJP (JJ afraid))\n",
      "          (PP (IN of)\n",
      "            (NP (NNP Virgina) (NNP Woolf))))\n",
      "        (. ?)))))\n"
     ]
    }
   ],
   "source": [
    "print(output['sentences'][0]['parse'])"
   ]
  },
  {
   "cell_type": "code",
   "execution_count": 6,
   "metadata": {
    "collapsed": true
   },
   "outputs": [],
   "source": [
    "raw = output['sentences'][0]['parse']\n",
    "raw_toks = raw.split(\"\\n\")"
   ]
  },
  {
   "cell_type": "code",
   "execution_count": 7,
   "metadata": {
    "collapsed": true
   },
   "outputs": [],
   "source": [
    "def tree(): return defaultdict(tree) # example of autovivification"
   ]
  },
  {
   "cell_type": "code",
   "execution_count": 8,
   "metadata": {
    "collapsed": false
   },
   "outputs": [
    {
     "name": "stdout",
     "output_type": "stream",
     "text": [
      "\"(ROOT\\n  (S\\n    (NP (DT The) (JJ real) (NN question))\\n    (VP (VBZ is) (, ,)\\n      (SBARQ\\n        (WHNP (WP who))\\n        (SQ (VBZ 's)\\n          (ADJP (JJ afraid))\\n          (PP (IN of)\\n            (NP (NNP Virgina) (NNP Woolf))))\\n        (. ?)))))\"\n"
     ]
    }
   ],
   "source": [
    "print(repr(output['sentences'][0]['parse']))\n",
    "# indent two spaces per "
   ]
  },
  {
   "cell_type": "code",
   "execution_count": 9,
   "metadata": {
    "collapsed": false
   },
   "outputs": [
    {
     "data": {
      "text/plain": [
       "['(ROOT',\n",
       " '  (S',\n",
       " '    (NP (DT The) (JJ real) (NN question))',\n",
       " '    (VP (VBZ is) (, ,)',\n",
       " '      (SBARQ',\n",
       " '        (WHNP (WP who))',\n",
       " \"        (SQ (VBZ 's)\",\n",
       " '          (ADJP (JJ afraid))',\n",
       " '          (PP (IN of)',\n",
       " '            (NP (NNP Virgina) (NNP Woolf))))',\n",
       " '        (. ?)))))']"
      ]
     },
     "execution_count": 9,
     "metadata": {},
     "output_type": "execute_result"
    }
   ],
   "source": [
    "raw_toks"
   ]
  },
  {
   "cell_type": "code",
   "execution_count": 11,
   "metadata": {
    "collapsed": false
   },
   "outputs": [
    {
     "data": {
      "text/plain": [
       "'(ROOT'"
      ]
     },
     "execution_count": 11,
     "metadata": {},
     "output_type": "execute_result"
    }
   ],
   "source": [
    "raw_toks[0]"
   ]
  },
  {
   "cell_type": "code",
   "execution_count": 19,
   "metadata": {
    "collapsed": false
   },
   "outputs": [
    {
     "name": "stdout",
     "output_type": "stream",
     "text": [
      "ROOT\n"
     ]
    }
   ],
   "source": [
    "tr = re.match(r\"^\\s*\\(([a-zA-Z0-9_]*)$\",raw_toks[0])\n",
    "print(tr.group(1)) # group(1) b/c group(0) is the complete match"
   ]
  },
  {
   "cell_type": "code",
   "execution_count": 55,
   "metadata": {
    "collapsed": true
   },
   "outputs": [],
   "source": [
    "def _leadingSpaces_(target):\n",
    "    return len(target) - len(target.lstrip())\n",
    "\n",
    "def _findParent_(curIndent, parid, treeRef):\n",
    "    tmpid = parid\n",
    "    while (curIndent <= treeRef[tmpid]['indent']):\n",
    "        tmpid = treeRef[tmpid]['parid']\n",
    "    return tmpid"
   ]
  },
  {
   "cell_type": "code",
   "execution_count": 102,
   "metadata": {
    "collapsed": false
   },
   "outputs": [],
   "source": [
    "def _generateTree_(rawTokens, treeRef):\n",
    "    \n",
    "    REGEX_PUNC = r\"^\\s*\\([,!?.'\\\"]\\s*[,!?.'\\\"]\\)\"\n",
    "    REGEX_OPEN = r\"^\\s*\\(([a-zA-Z0-9_']*)$\"\n",
    "    REGEX_COMP = r\"^\\s*\\(([a-zA-Z0-9_']*)\\s*((?:[(]([a-zA-Z0-9_;.,?'!]*)\\s*([a-zA-Z0-9_;\\.,?!']*)[)]\\s*)*)\"\n",
    "    REGEX_ISOL_IN_COMP = r\"\\(([a-zA-Z0-9_;.,?!']+)\\s*([a-zA-Z0-9_;.,?!']+)\\)\"\n",
    "    REGEX_PUNC_SOLO = r\"\\([,!?.'\\\"]\\s*[,!?.'\\\"]\\)\"\n",
    "    \n",
    "    # manually insert Root token \n",
    "    treeRef[0] = {'curid':0, 'parid':0, 'posOrTok':'ROOT', 'indent':0}\n",
    "    ID_CTR = 1\n",
    "    \n",
    "    for tok in rawTokens[1:]:\n",
    "        \n",
    "        curIndent = _leadingSpaces_(tok) # the current indent level\n",
    "        parid = _findParent_(curIndent, ID_CTR-1, treeRef) # determine parid\n",
    "        \n",
    "        checkMatch = re.match(REGEX_OPEN, tok)\n",
    "        if (checkMatch):\n",
    "            treeRef[ID_CTR] = {'curid':ID_CTR, 'parid':parid, 'posOrTok':checkMatch.group(1), 'indent':curIndent}\n",
    "            ID_CTR += 1\n",
    "            continue\n",
    "\n",
    "        checkPunc = re.match(REGEX_PUNC, tok)\n",
    "        if (checkPunc): # ignore punctuation\n",
    "            continue\n",
    "\n",
    "        checkChild = re.match(REGEX_COMP, tok)\n",
    "        if (checkChild):\n",
    "            treeRef[ID_CTR] = {'curid':ID_CTR, 'parid':parid, 'posOrTok':checkChild.group(1), 'indent':curIndent}\n",
    "            upCTR = ID_CTR\n",
    "            ID_CTR += 1\n",
    "            # Eliminate further punctuation\n",
    "            print(checkChild.group(2))\n",
    "\n",
    "            subCheck = re.sub(REGEX_PUNC_SOLO,'',checkChild.group(2))\n",
    "            subs = re.findall(REGEX_ISOL_IN_COMP, subCheck) \n",
    "            for ch in subs:\n",
    "                # THE INDENTING IS WRONG HERE - THE HEIRARCHY IS MESSED UP - check test output\n",
    "                treeRef[ID_CTR] = {'curid':ID_CTR, 'parid':upCTR, 'posOrTok':ch[0], 'indent':curIndent}\n",
    "                ID_CTR += 1\n",
    "                treeRef[ID_CTR] = {'curid':ID_CTR, 'parid':ID_CTR-1, 'posOrTok':ch[1], 'indent':curIndent}\n",
    "                ID_CTR += 1\n",
    "\n",
    "    return\n",
    "            "
   ]
  },
  {
   "cell_type": "markdown",
   "metadata": {},
   "source": [
    "## Test: Tree Generation"
   ]
  },
  {
   "cell_type": "code",
   "execution_count": 103,
   "metadata": {
    "collapsed": false
   },
   "outputs": [
    {
     "name": "stdout",
     "output_type": "stream",
     "text": [
      "(DT The) (JJ real) (NN question)\n",
      "(VBZ is) (, ,)\n",
      "(WP who)\n",
      "(VBZ 's)\n",
      "(JJ afraid)\n",
      "(IN of)\n",
      "(NNP Virgina) (NNP Woolf)\n"
     ]
    }
   ],
   "source": [
    "treeTest = tree()\n",
    "_generateTree_(raw_toks, treeTest)"
   ]
  },
  {
   "cell_type": "code",
   "execution_count": 104,
   "metadata": {
    "collapsed": false
   },
   "outputs": [
    {
     "data": {
      "text/plain": [
       "defaultdict(<function __main__.tree>,\n",
       "            {0: {'curid': 0, 'indent': 0, 'parid': 0, 'posOrTok': 'ROOT'},\n",
       "             1: {'curid': 1, 'indent': 2, 'parid': 0, 'posOrTok': 'S'},\n",
       "             2: {'curid': 2, 'indent': 4, 'parid': 1, 'posOrTok': 'NP'},\n",
       "             3: {'curid': 3, 'indent': 4, 'parid': 2, 'posOrTok': 'DT'},\n",
       "             4: {'curid': 4, 'indent': 4, 'parid': 3, 'posOrTok': 'The'},\n",
       "             5: {'curid': 5, 'indent': 4, 'parid': 2, 'posOrTok': 'JJ'},\n",
       "             6: {'curid': 6, 'indent': 4, 'parid': 5, 'posOrTok': 'real'},\n",
       "             7: {'curid': 7, 'indent': 4, 'parid': 2, 'posOrTok': 'NN'},\n",
       "             8: {'curid': 8, 'indent': 4, 'parid': 7, 'posOrTok': 'question'},\n",
       "             9: {'curid': 9, 'indent': 4, 'parid': 1, 'posOrTok': 'VP'},\n",
       "             10: {'curid': 10, 'indent': 4, 'parid': 9, 'posOrTok': 'VBZ'},\n",
       "             11: {'curid': 11, 'indent': 4, 'parid': 10, 'posOrTok': 'is'},\n",
       "             12: {'curid': 12, 'indent': 6, 'parid': 11, 'posOrTok': 'SBARQ'},\n",
       "             13: {'curid': 13, 'indent': 8, 'parid': 12, 'posOrTok': 'WHNP'},\n",
       "             14: {'curid': 14, 'indent': 8, 'parid': 13, 'posOrTok': 'WP'},\n",
       "             15: {'curid': 15, 'indent': 8, 'parid': 14, 'posOrTok': 'who'},\n",
       "             16: {'curid': 16, 'indent': 8, 'parid': 12, 'posOrTok': 'SQ'},\n",
       "             17: {'curid': 17, 'indent': 8, 'parid': 16, 'posOrTok': 'VBZ'},\n",
       "             18: {'curid': 18, 'indent': 8, 'parid': 17, 'posOrTok': \"'s\"},\n",
       "             19: {'curid': 19, 'indent': 10, 'parid': 18, 'posOrTok': 'ADJP'},\n",
       "             20: {'curid': 20, 'indent': 10, 'parid': 19, 'posOrTok': 'JJ'},\n",
       "             21: {'curid': 21,\n",
       "              'indent': 10,\n",
       "              'parid': 20,\n",
       "              'posOrTok': 'afraid'},\n",
       "             22: {'curid': 22, 'indent': 10, 'parid': 18, 'posOrTok': 'PP'},\n",
       "             23: {'curid': 23, 'indent': 10, 'parid': 22, 'posOrTok': 'IN'},\n",
       "             24: {'curid': 24, 'indent': 10, 'parid': 23, 'posOrTok': 'of'},\n",
       "             25: {'curid': 25, 'indent': 12, 'parid': 24, 'posOrTok': 'NP'},\n",
       "             26: {'curid': 26, 'indent': 12, 'parid': 25, 'posOrTok': 'NNP'},\n",
       "             27: {'curid': 27,\n",
       "              'indent': 12,\n",
       "              'parid': 26,\n",
       "              'posOrTok': 'Virgina'},\n",
       "             28: {'curid': 28, 'indent': 12, 'parid': 25, 'posOrTok': 'NNP'},\n",
       "             29: {'curid': 29,\n",
       "              'indent': 12,\n",
       "              'parid': 28,\n",
       "              'posOrTok': 'Woolf'}})"
      ]
     },
     "execution_count": 104,
     "metadata": {},
     "output_type": "execute_result"
    }
   ],
   "source": [
    "treeTest"
   ]
  },
  {
   "cell_type": "code",
   "execution_count": null,
   "metadata": {
    "collapsed": true
   },
   "outputs": [],
   "source": []
  }
 ],
 "metadata": {
  "kernelspec": {
   "display_name": "Python 3",
   "language": "python",
   "name": "python3"
  },
  "language_info": {
   "codemirror_mode": {
    "name": "ipython",
    "version": 3
   },
   "file_extension": ".py",
   "mimetype": "text/x-python",
   "name": "python",
   "nbconvert_exporter": "python",
   "pygments_lexer": "ipython3",
   "version": "3.5.2"
  }
 },
 "nbformat": 4,
 "nbformat_minor": 0
}
