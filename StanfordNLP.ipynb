{
 "cells": [
  {
   "cell_type": "code",
   "execution_count": 1,
   "metadata": {
    "collapsed": true
   },
   "outputs": [],
   "source": [
    "import pandas as pd\n",
    "import numpy as np\n",
    "from pycorenlp import StanfordCoreNLP \n",
    "from collections import defaultdict\n",
    "import re"
   ]
  },
  {
   "cell_type": "code",
   "execution_count": 2,
   "metadata": {
    "collapsed": true
   },
   "outputs": [],
   "source": [
    "nlp = StanfordCoreNLP('http://localhost:9000')"
   ]
  },
  {
   "cell_type": "code",
   "execution_count": 3,
   "metadata": {
    "collapsed": false
   },
   "outputs": [],
   "source": [
    "text = \"This time around, they're moving even faster\"\n",
    "# text = \"The real question is, who's afraid of Virgina Woolf?\"\n",
    "\n",
    "\n",
    "output = nlp.annotate(text, properties={\n",
    "  'annotators': 'parse',\n",
    "  'outputFormat': 'json'\n",
    "  })"
   ]
  },
  {
   "cell_type": "code",
   "execution_count": 4,
   "metadata": {
    "collapsed": false
   },
   "outputs": [
    {
     "data": {
      "text/plain": [
       "{'sentences': [{'basicDependencies': [{'dep': 'ROOT',\n",
       "     'dependent': 7,\n",
       "     'dependentGloss': 'moving',\n",
       "     'governor': 0,\n",
       "     'governorGloss': 'ROOT'},\n",
       "    {'dep': 'det',\n",
       "     'dependent': 1,\n",
       "     'dependentGloss': 'This',\n",
       "     'governor': 2,\n",
       "     'governorGloss': 'time'},\n",
       "    {'dep': 'nmod:npmod',\n",
       "     'dependent': 2,\n",
       "     'dependentGloss': 'time',\n",
       "     'governor': 3,\n",
       "     'governorGloss': 'around'},\n",
       "    {'dep': 'advmod',\n",
       "     'dependent': 3,\n",
       "     'dependentGloss': 'around',\n",
       "     'governor': 7,\n",
       "     'governorGloss': 'moving'},\n",
       "    {'dep': 'punct',\n",
       "     'dependent': 4,\n",
       "     'dependentGloss': ',',\n",
       "     'governor': 7,\n",
       "     'governorGloss': 'moving'},\n",
       "    {'dep': 'nsubj',\n",
       "     'dependent': 5,\n",
       "     'dependentGloss': 'they',\n",
       "     'governor': 7,\n",
       "     'governorGloss': 'moving'},\n",
       "    {'dep': 'aux',\n",
       "     'dependent': 6,\n",
       "     'dependentGloss': \"'re\",\n",
       "     'governor': 7,\n",
       "     'governorGloss': 'moving'},\n",
       "    {'dep': 'advmod',\n",
       "     'dependent': 8,\n",
       "     'dependentGloss': 'even',\n",
       "     'governor': 9,\n",
       "     'governorGloss': 'faster'},\n",
       "    {'dep': 'xcomp',\n",
       "     'dependent': 9,\n",
       "     'dependentGloss': 'faster',\n",
       "     'governor': 7,\n",
       "     'governorGloss': 'moving'}],\n",
       "   'enhancedDependencies': [{'dep': 'ROOT',\n",
       "     'dependent': 7,\n",
       "     'dependentGloss': 'moving',\n",
       "     'governor': 0,\n",
       "     'governorGloss': 'ROOT'},\n",
       "    {'dep': 'det',\n",
       "     'dependent': 1,\n",
       "     'dependentGloss': 'This',\n",
       "     'governor': 2,\n",
       "     'governorGloss': 'time'},\n",
       "    {'dep': 'nmod:npmod',\n",
       "     'dependent': 2,\n",
       "     'dependentGloss': 'time',\n",
       "     'governor': 3,\n",
       "     'governorGloss': 'around'},\n",
       "    {'dep': 'advmod',\n",
       "     'dependent': 3,\n",
       "     'dependentGloss': 'around',\n",
       "     'governor': 7,\n",
       "     'governorGloss': 'moving'},\n",
       "    {'dep': 'punct',\n",
       "     'dependent': 4,\n",
       "     'dependentGloss': ',',\n",
       "     'governor': 7,\n",
       "     'governorGloss': 'moving'},\n",
       "    {'dep': 'nsubj',\n",
       "     'dependent': 5,\n",
       "     'dependentGloss': 'they',\n",
       "     'governor': 7,\n",
       "     'governorGloss': 'moving'},\n",
       "    {'dep': 'aux',\n",
       "     'dependent': 6,\n",
       "     'dependentGloss': \"'re\",\n",
       "     'governor': 7,\n",
       "     'governorGloss': 'moving'},\n",
       "    {'dep': 'advmod',\n",
       "     'dependent': 8,\n",
       "     'dependentGloss': 'even',\n",
       "     'governor': 9,\n",
       "     'governorGloss': 'faster'},\n",
       "    {'dep': 'xcomp',\n",
       "     'dependent': 9,\n",
       "     'dependentGloss': 'faster',\n",
       "     'governor': 7,\n",
       "     'governorGloss': 'moving'}],\n",
       "   'enhancedPlusPlusDependencies': [{'dep': 'ROOT',\n",
       "     'dependent': 7,\n",
       "     'dependentGloss': 'moving',\n",
       "     'governor': 0,\n",
       "     'governorGloss': 'ROOT'},\n",
       "    {'dep': 'det',\n",
       "     'dependent': 1,\n",
       "     'dependentGloss': 'This',\n",
       "     'governor': 2,\n",
       "     'governorGloss': 'time'},\n",
       "    {'dep': 'nmod:npmod',\n",
       "     'dependent': 2,\n",
       "     'dependentGloss': 'time',\n",
       "     'governor': 3,\n",
       "     'governorGloss': 'around'},\n",
       "    {'dep': 'advmod',\n",
       "     'dependent': 3,\n",
       "     'dependentGloss': 'around',\n",
       "     'governor': 7,\n",
       "     'governorGloss': 'moving'},\n",
       "    {'dep': 'punct',\n",
       "     'dependent': 4,\n",
       "     'dependentGloss': ',',\n",
       "     'governor': 7,\n",
       "     'governorGloss': 'moving'},\n",
       "    {'dep': 'nsubj',\n",
       "     'dependent': 5,\n",
       "     'dependentGloss': 'they',\n",
       "     'governor': 7,\n",
       "     'governorGloss': 'moving'},\n",
       "    {'dep': 'aux',\n",
       "     'dependent': 6,\n",
       "     'dependentGloss': \"'re\",\n",
       "     'governor': 7,\n",
       "     'governorGloss': 'moving'},\n",
       "    {'dep': 'advmod',\n",
       "     'dependent': 8,\n",
       "     'dependentGloss': 'even',\n",
       "     'governor': 9,\n",
       "     'governorGloss': 'faster'},\n",
       "    {'dep': 'xcomp',\n",
       "     'dependent': 9,\n",
       "     'dependentGloss': 'faster',\n",
       "     'governor': 7,\n",
       "     'governorGloss': 'moving'}],\n",
       "   'index': 0,\n",
       "   'parse': \"(ROOT\\n  (S\\n    (ADVP\\n      (NP (DT This) (NN time))\\n      (RB around))\\n    (, ,)\\n    (NP (PRP they))\\n    (VP (VBP 're)\\n      (VP (VBG moving)\\n        (ADJP (RB even) (JJR faster))))))\",\n",
       "   'tokens': [{'after': ' ',\n",
       "     'before': '',\n",
       "     'characterOffsetBegin': 0,\n",
       "     'characterOffsetEnd': 4,\n",
       "     'index': 1,\n",
       "     'originalText': 'This',\n",
       "     'pos': 'DT',\n",
       "     'word': 'This'},\n",
       "    {'after': ' ',\n",
       "     'before': ' ',\n",
       "     'characterOffsetBegin': 5,\n",
       "     'characterOffsetEnd': 9,\n",
       "     'index': 2,\n",
       "     'originalText': 'time',\n",
       "     'pos': 'NN',\n",
       "     'word': 'time'},\n",
       "    {'after': '',\n",
       "     'before': ' ',\n",
       "     'characterOffsetBegin': 10,\n",
       "     'characterOffsetEnd': 16,\n",
       "     'index': 3,\n",
       "     'originalText': 'around',\n",
       "     'pos': 'RB',\n",
       "     'word': 'around'},\n",
       "    {'after': ' ',\n",
       "     'before': '',\n",
       "     'characterOffsetBegin': 16,\n",
       "     'characterOffsetEnd': 17,\n",
       "     'index': 4,\n",
       "     'originalText': ',',\n",
       "     'pos': ',',\n",
       "     'word': ','},\n",
       "    {'after': '',\n",
       "     'before': ' ',\n",
       "     'characterOffsetBegin': 18,\n",
       "     'characterOffsetEnd': 22,\n",
       "     'index': 5,\n",
       "     'originalText': 'they',\n",
       "     'pos': 'PRP',\n",
       "     'word': 'they'},\n",
       "    {'after': ' ',\n",
       "     'before': '',\n",
       "     'characterOffsetBegin': 22,\n",
       "     'characterOffsetEnd': 25,\n",
       "     'index': 6,\n",
       "     'originalText': \"'re\",\n",
       "     'pos': 'VBP',\n",
       "     'word': \"'re\"},\n",
       "    {'after': ' ',\n",
       "     'before': ' ',\n",
       "     'characterOffsetBegin': 26,\n",
       "     'characterOffsetEnd': 32,\n",
       "     'index': 7,\n",
       "     'originalText': 'moving',\n",
       "     'pos': 'VBG',\n",
       "     'word': 'moving'},\n",
       "    {'after': ' ',\n",
       "     'before': ' ',\n",
       "     'characterOffsetBegin': 33,\n",
       "     'characterOffsetEnd': 37,\n",
       "     'index': 8,\n",
       "     'originalText': 'even',\n",
       "     'pos': 'RB',\n",
       "     'word': 'even'},\n",
       "    {'after': '',\n",
       "     'before': ' ',\n",
       "     'characterOffsetBegin': 38,\n",
       "     'characterOffsetEnd': 44,\n",
       "     'index': 9,\n",
       "     'originalText': 'faster',\n",
       "     'pos': 'JJR',\n",
       "     'word': 'faster'}]}]}"
      ]
     },
     "execution_count": 4,
     "metadata": {},
     "output_type": "execute_result"
    }
   ],
   "source": [
    "output"
   ]
  },
  {
   "cell_type": "code",
   "execution_count": 5,
   "metadata": {
    "collapsed": false
   },
   "outputs": [
    {
     "name": "stdout",
     "output_type": "stream",
     "text": [
      "(ROOT\n",
      "  (S\n",
      "    (ADVP\n",
      "      (NP (DT This) (NN time))\n",
      "      (RB around))\n",
      "    (, ,)\n",
      "    (NP (PRP they))\n",
      "    (VP (VBP 're)\n",
      "      (VP (VBG moving)\n",
      "        (ADJP (RB even) (JJR faster))))))\n"
     ]
    }
   ],
   "source": [
    "print(output['sentences'][0]['parse'])"
   ]
  },
  {
   "cell_type": "code",
   "execution_count": 30,
   "metadata": {
    "collapsed": true
   },
   "outputs": [],
   "source": [
    "raw = output['sentences'][0]['parse']\n",
    "raw_toks = raw.split(\"\\n\")"
   ]
  },
  {
   "cell_type": "code",
   "execution_count": 31,
   "metadata": {
    "collapsed": true
   },
   "outputs": [],
   "source": [
    "def tree(): return defaultdict(tree) # example of autovivification"
   ]
  },
  {
   "cell_type": "code",
   "execution_count": 32,
   "metadata": {
    "collapsed": false
   },
   "outputs": [
    {
     "name": "stdout",
     "output_type": "stream",
     "text": [
      "\"(ROOT\\n  (S\\n    (ADVP\\n      (NP (DT This) (NN time))\\n      (RB around))\\n    (, ,)\\n    (NP (PRP they))\\n    (VP (VBP 're)\\n      (VP (VBG moving)\\n        (ADJP (RB even) (JJR faster))))))\"\n"
     ]
    }
   ],
   "source": [
    "print(repr(output['sentences'][0]['parse']))\n",
    "# indent two spaces per "
   ]
  },
  {
   "cell_type": "code",
   "execution_count": 33,
   "metadata": {
    "collapsed": false
   },
   "outputs": [
    {
     "data": {
      "text/plain": [
       "['(ROOT',\n",
       " '  (S',\n",
       " '    (ADVP',\n",
       " '      (NP (DT This) (NN time))',\n",
       " '      (RB around))',\n",
       " '    (, ,)',\n",
       " '    (NP (PRP they))',\n",
       " \"    (VP (VBP 're)\",\n",
       " '      (VP (VBG moving)',\n",
       " '        (ADJP (RB even) (JJR faster))))))']"
      ]
     },
     "execution_count": 33,
     "metadata": {},
     "output_type": "execute_result"
    }
   ],
   "source": [
    "raw_toks"
   ]
  },
  {
   "cell_type": "code",
   "execution_count": 34,
   "metadata": {
    "collapsed": false
   },
   "outputs": [
    {
     "data": {
      "text/plain": [
       "'(ROOT'"
      ]
     },
     "execution_count": 34,
     "metadata": {},
     "output_type": "execute_result"
    }
   ],
   "source": [
    "raw_toks[0]"
   ]
  },
  {
   "cell_type": "code",
   "execution_count": 35,
   "metadata": {
    "collapsed": false
   },
   "outputs": [
    {
     "name": "stdout",
     "output_type": "stream",
     "text": [
      "ROOT\n"
     ]
    }
   ],
   "source": [
    "tr = re.match(r\"^\\s*\\(([a-zA-Z0-9_]*)$\",raw_toks[0])\n",
    "print(tr.group(1)) # group(1) b/c group(0) is the complete match"
   ]
  },
  {
   "cell_type": "code",
   "execution_count": 36,
   "metadata": {
    "collapsed": true
   },
   "outputs": [],
   "source": [
    "def _leadingSpaces_(target):\n",
    "    return len(target) - len(target.lstrip())\n",
    "\n",
    "def _findParent_(curIndent, parid, treeRef):\n",
    "    tmpid = parid\n",
    "    while (curIndent <= treeRef[tmpid]['indent']):\n",
    "        tmpid = treeRef[tmpid]['parid']\n",
    "    return tmpid"
   ]
  },
  {
   "cell_type": "code",
   "execution_count": 40,
   "metadata": {
    "collapsed": false
   },
   "outputs": [],
   "source": [
    "def _generateTree_(rawTokens, treeRef):\n",
    "    \n",
    "    REGEX_PUNC = r\"^\\s*\\([,!?.'\\\"]\\s*[,!?.'\\\"]\\)\"\n",
    "    REGEX_OPEN = r\"^\\s*\\(([a-zA-Z0-9_']*)$\"\n",
    "    REGEX_COMP = r\"^\\s*\\(([a-zA-Z0-9_']*)\\s*((?:[(]([a-zA-Z0-9_;.,?'!]*)\\s*([a-zA-Z0-9_;\\.,?!']*)[)]\\s*)*)\"\n",
    "    REGEX_ISOL_IN_COMP = r\"\\(([a-zA-Z0-9_;.,?!']+)\\s*([a-zA-Z0-9_;.,?!']+)\\)\"\n",
    "    REGEX_PUNC_SOLO = r\"\\([,!?.'\\\"]\\s*[,!?.'\\\"]\\)\"\n",
    "        \n",
    "    # manually insert Root token \n",
    "    treeRef[len(treeRef)] = {'curid':0, \n",
    "                             'parid':-1, \n",
    "                             'posOrTok':'ROOT', \n",
    "                             'indent':0}\n",
    "    ID_CTR = 1\n",
    "    \n",
    "    for tok in rawTokens[1:]:\n",
    "        \n",
    "        curIndent = _leadingSpaces_(tok) # the current indent level\n",
    "        parid = _findParent_(curIndent, ID_CTR-1, treeRef) # determine parid\n",
    "        \n",
    "        checkMatch = re.match(REGEX_OPEN, tok)\n",
    "        if (checkMatch):\n",
    "            treeRef[ID_CTR] = {'curid':ID_CTR, \n",
    "                               'parid':parid, \n",
    "                               'posOrTok':checkMatch.group(1), \n",
    "                               'indent':curIndent}\n",
    "            ID_CTR += 1\n",
    "            continue\n",
    "\n",
    "        checkPunc = re.match(REGEX_PUNC, tok)\n",
    "        if (checkPunc): # ignore punctuation\n",
    "            continue\n",
    "\n",
    "        checkChild = re.match(REGEX_COMP, tok)\n",
    "        if (checkChild):\n",
    "            treeRef[ID_CTR] = {'curid':ID_CTR, \n",
    "                               'parid':parid, \n",
    "                               'posOrTok':checkChild.group(1), \n",
    "                               'indent':curIndent}\n",
    "            upCTR = ID_CTR\n",
    "            ID_CTR += 1\n",
    "            # Eliminate further punctuation\n",
    "            print(checkChild.group(2))\n",
    "\n",
    "            subCheck = re.sub(REGEX_PUNC_SOLO,'',checkChild.group(2))\n",
    "            subs = re.findall(REGEX_ISOL_IN_COMP, subCheck) \n",
    "            for ch in subs:\n",
    "                # THE INDENTING IS WRONG HERE - THE HEIRARCHY IS MESSED UP - check test output\n",
    "                treeRef[ID_CTR] = {'curid':ID_CTR, \n",
    "                                   'parid':upCTR, \n",
    "                                   'posOrTok':ch[0], \n",
    "                                   'indent':curIndent+2}\n",
    "                ID_CTR += 1\n",
    "                treeRef[ID_CTR] = {'curid':ID_CTR, \n",
    "                                   'parid':ID_CTR-1, \n",
    "                                   'posOrTok':ch[1], \n",
    "                                   'indent':curIndent+2}\n",
    "                ID_CTR += 1\n",
    "\n",
    "    return\n",
    "            "
   ]
  },
  {
   "cell_type": "code",
   "execution_count": 51,
   "metadata": {
    "collapsed": true
   },
   "outputs": [],
   "source": [
    "'''\n",
    "_generateTree_() method only provides tree (dict representation) listing parents. \n",
    "This is a naive method to add a \"children\" field to the tree - necessary for optimal Tree Kernel methods \n",
    "'''\n",
    "def _flipTree_(treeRef):\n",
    "    for k,v in treeRef.items():\n",
    "        treeRef[k]['children'] = list({sk:sv for (sk,sv) in treeRef.items() if sv['parid'] == k}.keys())\n"
   ]
  },
  {
   "cell_type": "markdown",
   "metadata": {},
   "source": [
    "## Test: Tree Generation"
   ]
  },
  {
   "cell_type": "code",
   "execution_count": 41,
   "metadata": {
    "collapsed": false
   },
   "outputs": [
    {
     "name": "stdout",
     "output_type": "stream",
     "text": [
      "(DT This) (NN time)\n",
      "\n",
      "(PRP they)\n",
      "(VBP 're)\n",
      "(VBG moving)\n",
      "(RB even) (JJR faster)\n"
     ]
    }
   ],
   "source": [
    "treeTest = tree()\n",
    "_generateTree_(raw_toks, treeTest)"
   ]
  },
  {
   "cell_type": "code",
   "execution_count": 42,
   "metadata": {
    "collapsed": false
   },
   "outputs": [
    {
     "data": {
      "text/plain": [
       "defaultdict(<function __main__.tree>,\n",
       "            {0: {'curid': 0, 'indent': 0, 'parid': -1, 'posOrTok': 'ROOT'},\n",
       "             1: {'curid': 1, 'indent': 2, 'parid': 0, 'posOrTok': 'S'},\n",
       "             2: {'curid': 2, 'indent': 4, 'parid': 1, 'posOrTok': 'ADVP'},\n",
       "             3: {'curid': 3, 'indent': 6, 'parid': 2, 'posOrTok': 'NP'},\n",
       "             4: {'curid': 4, 'indent': 8, 'parid': 3, 'posOrTok': 'DT'},\n",
       "             5: {'curid': 5, 'indent': 8, 'parid': 4, 'posOrTok': 'This'},\n",
       "             6: {'curid': 6, 'indent': 8, 'parid': 3, 'posOrTok': 'NN'},\n",
       "             7: {'curid': 7, 'indent': 8, 'parid': 6, 'posOrTok': 'time'},\n",
       "             8: {'curid': 8, 'indent': 6, 'parid': 2, 'posOrTok': 'RB'},\n",
       "             9: {'curid': 9, 'indent': 4, 'parid': 1, 'posOrTok': 'NP'},\n",
       "             10: {'curid': 10, 'indent': 6, 'parid': 9, 'posOrTok': 'PRP'},\n",
       "             11: {'curid': 11, 'indent': 6, 'parid': 10, 'posOrTok': 'they'},\n",
       "             12: {'curid': 12, 'indent': 4, 'parid': 1, 'posOrTok': 'VP'},\n",
       "             13: {'curid': 13, 'indent': 6, 'parid': 12, 'posOrTok': 'VBP'},\n",
       "             14: {'curid': 14, 'indent': 6, 'parid': 13, 'posOrTok': \"'re\"},\n",
       "             15: {'curid': 15, 'indent': 6, 'parid': 12, 'posOrTok': 'VP'},\n",
       "             16: {'curid': 16, 'indent': 8, 'parid': 15, 'posOrTok': 'VBG'},\n",
       "             17: {'curid': 17, 'indent': 8, 'parid': 16, 'posOrTok': 'moving'},\n",
       "             18: {'curid': 18, 'indent': 8, 'parid': 15, 'posOrTok': 'ADJP'},\n",
       "             19: {'curid': 19, 'indent': 10, 'parid': 18, 'posOrTok': 'RB'},\n",
       "             20: {'curid': 20, 'indent': 10, 'parid': 19, 'posOrTok': 'even'},\n",
       "             21: {'curid': 21, 'indent': 10, 'parid': 18, 'posOrTok': 'JJR'},\n",
       "             22: {'curid': 22,\n",
       "              'indent': 10,\n",
       "              'parid': 21,\n",
       "              'posOrTok': 'faster'}})"
      ]
     },
     "execution_count": 42,
     "metadata": {},
     "output_type": "execute_result"
    }
   ],
   "source": [
    "treeTest"
   ]
  },
  {
   "cell_type": "code",
   "execution_count": null,
   "metadata": {
    "collapsed": true
   },
   "outputs": [],
   "source": []
  }
 ],
 "metadata": {
  "kernelspec": {
   "display_name": "Python 3",
   "language": "python",
   "name": "python3"
  },
  "language_info": {
   "codemirror_mode": {
    "name": "ipython",
    "version": 3
   },
   "file_extension": ".py",
   "mimetype": "text/x-python",
   "name": "python",
   "nbconvert_exporter": "python",
   "pygments_lexer": "ipython3",
   "version": "3.5.2"
  }
 },
 "nbformat": 4,
 "nbformat_minor": 0
}
