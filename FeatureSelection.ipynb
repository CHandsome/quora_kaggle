{
 "cells": [
  {
   "cell_type": "code",
   "execution_count": 1,
   "metadata": {
    "collapsed": true
   },
   "outputs": [],
   "source": [
    "import pickle, gzip\n",
    "import pandas as pd\n",
    "import os\n",
    "import numpy as np"
   ]
  },
  {
   "cell_type": "code",
   "execution_count": 4,
   "metadata": {
    "collapsed": false
   },
   "outputs": [
    {
     "name": "stdout",
     "output_type": "stream",
     "text": [
      "EOF\n",
      "Done!\n"
     ]
    }
   ],
   "source": [
    "with gzip.open('input/stanfordData_test_p5.nlp', 'rb') as fout:\n",
    "    while True:\n",
    "        try:\n",
    "            tmp = pickle.load(fout)\n",
    "        except EOFError:\n",
    "            print(\"EOF\")\n",
    "            break\n",
    "print(\"Done!\")"
   ]
  },
  {
   "cell_type": "code",
   "execution_count": 2,
   "metadata": {
    "collapsed": false
   },
   "outputs": [
    {
     "name": "stdout",
     "output_type": "stream",
     "text": [
      "/Users/Matthew/Documents/CIS700/FinalProject_Kaggle/input/collins_duffy/collins_duffy_1e-1_sst.csv\n",
      "/Users/Matthew/Documents/CIS700/FinalProject_Kaggle/input/collins_duffy/collins_duffy_1e-1_st.csv\n",
      "/Users/Matthew/Documents/CIS700/FinalProject_Kaggle/input/collins_duffy/collins_duffy_1e-2_sst.csv\n",
      "/Users/Matthew/Documents/CIS700/FinalProject_Kaggle/input/collins_duffy/collins_duffy_1e-2_st.csv\n",
      "/Users/Matthew/Documents/CIS700/FinalProject_Kaggle/input/collins_duffy/collins_duffy_1e0_sst.csv\n",
      "/Users/Matthew/Documents/CIS700/FinalProject_Kaggle/input/collins_duffy/collins_duffy_1e0_st.csv\n",
      "/Users/Matthew/Documents/CIS700/FinalProject_Kaggle/input/collins_duffy/collins_duffy_2e-1_sst.csv\n",
      "/Users/Matthew/Documents/CIS700/FinalProject_Kaggle/input/collins_duffy/collins_duffy_2e-1_st.csv\n",
      "/Users/Matthew/Documents/CIS700/FinalProject_Kaggle/input/collins_duffy/collins_duffy_5e-1_sst.csv\n",
      "/Users/Matthew/Documents/CIS700/FinalProject_Kaggle/input/collins_duffy/collins_duffy_5e-1_st.csv\n",
      "/Users/Matthew/Documents/CIS700/FinalProject_Kaggle/input/collins_duffy/collins_duffy_5e-2_sst.csv\n",
      "/Users/Matthew/Documents/CIS700/FinalProject_Kaggle/input/collins_duffy/collins_duffy_5e-2_st.csv\n",
      "/Users/Matthew/Documents/CIS700/FinalProject_Kaggle/input/collins_duffy/collins_duffy_8e-1_sst.csv\n",
      "/Users/Matthew/Documents/CIS700/FinalProject_Kaggle/input/collins_duffy/collins_duffy_8e-1_st.csv\n"
     ]
    }
   ],
   "source": [
    "df_features = None\n",
    "flip = True\n",
    "base = 'input/collins_duffy/'\n",
    "count = 0\n",
    "for filename in os.listdir(base):\n",
    "    if filename.endswith(\".csv\"): \n",
    "        tmpFrame = pd.read_csv(os.path.join(os.getcwd(), base, filename))\n",
    "        print(os.path.join(os.getcwd(), base, filename))\n",
    "        tmpFrame = tmpFrame.rename(columns={'cdNorm_st': 'cdNorm'+str(count)})\n",
    "        if flip:\n",
    "            df_features = tmpFrame\n",
    "            flip = False\n",
    "        else:\n",
    "            df_features = df_features.merge(tmpFrame,how='inner',on='id')\n",
    "        count+=1\n",
    "        continue\n",
    "    else:\n",
    "        continue"
   ]
  },
  {
   "cell_type": "code",
   "execution_count": 3,
   "metadata": {
    "collapsed": false
   },
   "outputs": [
    {
     "data": {
      "text/plain": [
       "Index(['cdNorm0', 'id', 'cdNorm1', 'cdNorm2', 'cdNorm3', 'cdNorm4', 'cdNorm5',\n",
       "       'cdNorm6', 'cdNorm7', 'cdNorm8', 'cdNorm9', 'cdNorm10', 'cdNorm11',\n",
       "       'cdNorm12', 'cdNorm13'],\n",
       "      dtype='object')"
      ]
     },
     "execution_count": 3,
     "metadata": {},
     "output_type": "execute_result"
    }
   ],
   "source": [
    "df_features.columns"
   ]
  },
  {
   "cell_type": "code",
   "execution_count": 4,
   "metadata": {
    "collapsed": false
   },
   "outputs": [
    {
     "name": "stdout",
     "output_type": "stream",
     "text": [
      "Shape of base training File =  (404290, 6)\n",
      "Shape of base training data after cleaning =  (404290, 6)\n"
     ]
    }
   ],
   "source": [
    "def read_data(path_to_file):\n",
    "    df = pd.read_csv(path_to_file)\n",
    "    print (\"Shape of base training File = \", df.shape)\n",
    "    print(\"Shape of base training data after cleaning = \", df.shape)\n",
    "    return df\n",
    "\n",
    "df_train = read_data(\"input/train.csv\")"
   ]
  },
  {
   "cell_type": "code",
   "execution_count": 5,
   "metadata": {
    "collapsed": true
   },
   "outputs": [],
   "source": [
    "df_comp = df_train.merge(df_features,how='inner',on='id')\n",
    "df_comp = df_comp.fillna(value=0)"
   ]
  },
  {
   "cell_type": "code",
   "execution_count": 6,
   "metadata": {
    "collapsed": false
   },
   "outputs": [],
   "source": [
    "from sklearn.feature_selection import SelectKBest\n",
    "from sklearn.feature_selection import chi2, f_classif, mutual_info_classif\n",
    "from sklearn import preprocessing"
   ]
  },
  {
   "cell_type": "code",
   "execution_count": 7,
   "metadata": {
    "collapsed": false
   },
   "outputs": [],
   "source": [
    "le = preprocessing.LabelEncoder()\n",
    "# >>> lb.fit_transform(['yes', 'no', 'no', 'yes'])\n",
    "\n",
    "X = df_comp[['cdNorm0', 'cdNorm1', 'cdNorm2', 'cdNorm3', 'cdNorm4', 'cdNorm5',\n",
    "       'cdNorm6', 'cdNorm7', 'cdNorm8', 'cdNorm9', 'cdNorm10', 'cdNorm11',\n",
    "       'cdNorm12', 'cdNorm13']]\n",
    "\n",
    "y = df_comp['is_duplicate']\n",
    "\n",
    "y = le.fit_transform(y)\n",
    "\n",
    "selector_1 = SelectKBest(chi2, k='all').fit(X,y)"
   ]
  },
  {
   "cell_type": "code",
   "execution_count": 8,
   "metadata": {
    "collapsed": true
   },
   "outputs": [],
   "source": [
    "selector_2 = SelectKBest(f_classif, k='all').fit(X,y)"
   ]
  },
  {
   "cell_type": "code",
   "execution_count": 9,
   "metadata": {
    "collapsed": true
   },
   "outputs": [],
   "source": [
    "selector_3 = SelectKBest(mutual_info_classif, k='all').fit(X,y)"
   ]
  },
  {
   "cell_type": "code",
   "execution_count": 10,
   "metadata": {
    "collapsed": false
   },
   "outputs": [
    {
     "name": "stdout",
     "output_type": "stream",
     "text": [
      "[ 4805.72727281  6766.15137454  4832.98468866  6717.81066924   292.90579625\n",
      "  5398.31570453  4714.81172705  6817.78841844  3622.87024336  6951.32883752\n",
      "  4825.51842379  6739.54025863   927.52145     6803.12405878]\n"
     ]
    }
   ],
   "source": [
    "print(selector_1.scores_)"
   ]
  },
  {
   "cell_type": "code",
   "execution_count": 11,
   "metadata": {
    "collapsed": false
   },
   "outputs": [
    {
     "name": "stdout",
     "output_type": "stream",
     "text": [
      "[ 34708.84764329  45689.75921777  36084.40829209  45259.30053561\n",
      "    675.14014113  42516.36197518  32494.31485445  46108.85847876\n",
      "  18149.89191184  47083.00872977  35530.66411392  45457.81962811\n",
      "   2597.10118075  46750.70470034]\n"
     ]
    }
   ],
   "source": [
    "print(selector_2.scores_)"
   ]
  },
  {
   "cell_type": "code",
   "execution_count": 12,
   "metadata": {
    "collapsed": false
   },
   "outputs": [
    {
     "name": "stdout",
     "output_type": "stream",
     "text": [
      "[ 0.10322086  0.12212759  0.11208143  0.12629059  0.08110915  0.08799524\n",
      "  0.09915377  0.11911368  0.10322444  0.11436282  0.10319109  0.12461733\n",
      "  0.09017436  0.11452788]\n"
     ]
    }
   ],
   "source": [
    "print(selector_3.scores_)"
   ]
  },
  {
   "cell_type": "code",
   "execution_count": null,
   "metadata": {
    "collapsed": true
   },
   "outputs": [],
   "source": [
    "'''\n",
    "The two worst performs by a large margin are 5th from the beginning and 6th from the end, \n",
    "and 2nd from the end. As predicted these are all SST features for high values of lambda.\n",
    "\n",
    "SST: 1e0\n",
    "SST: 8e-1\n",
    "SST: 5e-1\n",
    "'''"
   ]
  }
 ],
 "metadata": {
  "kernelspec": {
   "display_name": "Python 3",
   "language": "python",
   "name": "python3"
  },
  "language_info": {
   "codemirror_mode": {
    "name": "ipython",
    "version": 3.0
   },
   "file_extension": ".py",
   "mimetype": "text/x-python",
   "name": "python",
   "nbconvert_exporter": "python",
   "pygments_lexer": "ipython3",
   "version": "3.5.2"
  }
 },
 "nbformat": 4,
 "nbformat_minor": 0
}