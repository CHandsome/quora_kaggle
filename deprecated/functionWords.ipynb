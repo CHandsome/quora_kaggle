{
 "cells": [
  {
   "cell_type": "code",
   "execution_count": 2,
   "metadata": {
    "collapsed": false
   },
   "outputs": [],
   "source": [
    "import pandas as pd\n",
    "import numpy as np\n",
    "import string\n",
    "from collections import defaultdict\n",
    "import csv\n",
    "import heapq\n"
   ]
  },
  {
   "cell_type": "code",
   "execution_count": 3,
   "metadata": {
    "collapsed": false
   },
   "outputs": [],
   "source": [
    "rawTrainDf = pd.read_csv('train.csv')\n",
    "corpus = defaultdict(int) # default dict for speed\n",
    "# punc = \"%,./;'?&-\"\n",
    "transtable = {ord(c): None for c in string.punctuation}"
   ]
  },
  {
   "cell_type": "code",
   "execution_count": 4,
   "metadata": {
    "collapsed": false
   },
   "outputs": [],
   "source": [
    "def updateDictionary(dictRef, rawString):\n",
    "    # Strip sentence punctuation\n",
    "    cleanList = rawString.split(\" \") # Split on spaces\n",
    "    cleanList = [str.translate(transtable) for str in cleanList] # remove punctuation\n",
    "    cleanList = [word.lower().strip() for word in cleanList] # clean the word\n",
    "    for word in cleanList:\n",
    "        dictRef[word] += 1\n"
   ]
  },
  {
   "cell_type": "code",
   "execution_count": 5,
   "metadata": {
    "collapsed": false
   },
   "outputs": [
    {
     "name": "stdout",
     "output_type": "stream",
     "text": [
      "105780\n",
      "201841\n"
     ]
    }
   ],
   "source": [
    "for idx, row in rawTrainDf.iterrows():\n",
    "    try:\n",
    "        updateDictionary(corpus, row[\"question1\"])\n",
    "        updateDictionary(corpus, row[\"question2\"])\n",
    "    except AttributeError:\n",
    "        print(idx)"
   ]
  },
  {
   "cell_type": "code",
   "execution_count": 6,
   "metadata": {
    "collapsed": true
   },
   "outputs": [],
   "source": [
    "fwords = heapq.nlargest(50, corpus, key=corpus.get)"
   ]
  },
  {
   "cell_type": "code",
   "execution_count": 7,
   "metadata": {
    "collapsed": false
   },
   "outputs": [
    {
     "data": {
      "text/plain": [
       "['the',\n",
       " 'what',\n",
       " 'is',\n",
       " 'how',\n",
       " 'i',\n",
       " 'a',\n",
       " 'to',\n",
       " 'in',\n",
       " 'do',\n",
       " 'of',\n",
       " 'are',\n",
       " 'and',\n",
       " 'can',\n",
       " 'for',\n",
       " 'you',\n",
       " 'why',\n",
       " 'my',\n",
       " 'best',\n",
       " 'it',\n",
       " 'on',\n",
       " 'does',\n",
       " 'or',\n",
       " 'be',\n",
       " 'which',\n",
       " 'if',\n",
       " 'some',\n",
       " 'have',\n",
       " 'that',\n",
       " 'with',\n",
       " 'get',\n",
       " 'should',\n",
       " 'an',\n",
       " 'from',\n",
       " 'your',\n",
       " 'india',\n",
       " 'will',\n",
       " 'when',\n",
       " 'people',\n",
       " 'who',\n",
       " 'like',\n",
       " 'at',\n",
       " 'good',\n",
       " 'would',\n",
       " 'there',\n",
       " 'as',\n",
       " 'about',\n",
       " 'not',\n",
       " 'between',\n",
       " 'one',\n",
       " 'most']"
      ]
     },
     "execution_count": 7,
     "metadata": {},
     "output_type": "execute_result"
    }
   ],
   "source": [
    "fwords"
   ]
  },
  {
   "cell_type": "code",
   "execution_count": 8,
   "metadata": {
    "collapsed": false
   },
   "outputs": [],
   "source": [
    "# Write the list to file as helper\n",
    "with open('function_words.csv', 'w') as myfile:\n",
    "    wr = csv.writer(myfile, quoting=csv.QUOTE_NONE)\n",
    "    wr.writerow(fwords)\n"
   ]
  },
  {
   "cell_type": "code",
   "execution_count": null,
   "metadata": {
    "collapsed": true
   },
   "outputs": [],
   "source": []
  }
 ],
 "metadata": {
  "kernelspec": {
   "display_name": "Python 3",
   "language": "python",
   "name": "python3"
  },
  "language_info": {
   "codemirror_mode": {
    "name": "ipython",
    "version": 3
   },
   "file_extension": ".py",
   "mimetype": "text/x-python",
   "name": "python",
   "nbconvert_exporter": "python",
   "pygments_lexer": "ipython3",
   "version": "3.5.2"
  }
 },
 "nbformat": 4,
 "nbformat_minor": 0
}
