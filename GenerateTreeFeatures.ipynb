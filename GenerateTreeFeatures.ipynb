{
 "cells": [
  {
   "cell_type": "code",
   "execution_count": null,
   "metadata": {
    "collapsed": false
   },
   "outputs": [],
   "source": [
    "from pycorenlp import StanfordCoreNLP \n",
    "import TreeKernel as tk\n",
    "import TreeBuild as tb\n",
    "import numpy as np\n",
    "import pandas as pd\n",
    "import pickle\n",
    "\n",
    "nlp = StanfordCoreNLP('http://localhost:9000')"
   ]
  },
  {
   "cell_type": "code",
   "execution_count": null,
   "metadata": {
    "collapsed": true
   },
   "outputs": [],
   "source": [
    "def _getNLPToks_(rawSentence):\n",
    "    try:\n",
    "        output = nlp.annotate(rawSentence, properties={\n",
    "            'annotators': 'tokenize,ssplit,pos,parse',\n",
    "            'outputFormat': 'json'\n",
    "        })\n",
    "    except UnicodeDecodeError:\n",
    "        sentence = unidecode(rawSentence)\n",
    "        output = nlp.annotate(sentence, properties={\n",
    "            'annotators': 'tokenize,ssplit,pos,parse',\n",
    "            'outputFormat': 'json'\n",
    "        })\n",
    "    tokens = output['sentences'][0]['tokens']\n",
    "    parse = output['sentences'][0]['parse'].split(\"\\n\")\n",
    "    return {\n",
    "        'toks':tokens, 'parse':parse\n",
    "    }\n"
   ]
  },
  {
   "cell_type": "code",
   "execution_count": null,
   "metadata": {
    "collapsed": false
   },
   "outputs": [],
   "source": [
    "feature_vect = {}\n",
    "\n",
    "with open('input/stanfordData_train1.nlp', 'rb') as handle:\n",
    "    count = 0\n",
    "    while True:\n",
    "        if (count % 10000 == 0):\n",
    "            print(count)\n",
    "        try:\n",
    "            unit = pickle.load(handle)\n",
    "            # ST Syntax score\n",
    "            (rscore_st, nscore_st) = tk._CollinsDuffy_(unit['q1']['parse'], unit['q2']['parse'], 0.8, 1, 0)\n",
    "\n",
    "            feature_vect[unit['id']] = {\n",
    "                'id':unit['id'], \n",
    "                'cdNorm_st':nscore_st\n",
    "            }\n",
    "            \n",
    "        except EOFError:\n",
    "            break\n",
    "        except:\n",
    "            print(\"Quote error on: %d\", unit['id'])\n",
    "            \n",
    "            q1_stanford = _getNLPToks_(unit['q1']['raw'].replace('\"','').replace(\"'\",''))\n",
    "            q2_stanford = _getNLPToks_(unit['q2']['raw'].replace('\"','').replace(\"'\",''))\n",
    "\n",
    "            tree_1 = tb.tree()\n",
    "            tree_2 = tb.tree()\n",
    "\n",
    "            # Generate a tree structure\n",
    "            tb._generateTree_(q1_stanford['parse'], tree_1)\n",
    "            tb._generateTree_(q2_stanford['parse'], tree_2)\n",
    "\n",
    "            # Flip the trees\n",
    "            tb._flipTree_(tree_1)\n",
    "            tb._flipTree_(tree_2)\n",
    "\n",
    "            \n",
    "            (rscore_st, nscore_st) = tk._CollinsDuffy_(tree_1, tree_2, 0.8, 1, 0)\n",
    "\n",
    "            feature_vect[unit['id']] = {\n",
    "                'id':unit['id'], \n",
    "                'cdNorm_st':nscore_st\n",
    "            }\n",
    "            \n",
    "            print(\"Quote error resolved\")\n",
    "            pass \n",
    "\n",
    "        count += 1"
   ]
  },
  {
   "cell_type": "code",
   "execution_count": null,
   "metadata": {
    "collapsed": false
   },
   "outputs": [],
   "source": [
    "df_feature = pd.DataFrame.from_dict(feature_vect)\n",
    "df_feature = df_feature.transpose()"
   ]
  },
  {
   "cell_type": "code",
   "execution_count": null,
   "metadata": {
    "collapsed": false
   },
   "outputs": [],
   "source": [
    "df_feature[['id']] = df_feature[['id']].astype(int)"
   ]
  },
  {
   "cell_type": "code",
   "execution_count": null,
   "metadata": {
    "collapsed": false
   },
   "outputs": [],
   "source": [
    "df_feature.to_csv('input/collins_duffy_8e-1.csv', index=False)"
   ]
  },
  {
   "cell_type": "code",
   "execution_count": null,
   "metadata": {
    "collapsed": false
   },
   "outputs": [],
   "source": [
    "df_train = pd.read_csv('input/train.csv')"
   ]
  },
  {
   "cell_type": "code",
   "execution_count": null,
   "metadata": {
    "collapsed": false
   },
   "outputs": [],
   "source": [
    "df_train.ix[14343]\n"
   ]
  },
  {
   "cell_type": "code",
   "execution_count": null,
   "metadata": {
    "collapsed": false
   },
   "outputs": [],
   "source": [
    "df_feature.ix[14343]"
   ]
  },
  {
   "cell_type": "code",
   "execution_count": null,
   "metadata": {
    "collapsed": true
   },
   "outputs": [],
   "source": []
  }
 ],
 "metadata": {
  "kernelspec": {
   "display_name": "Python 3",
   "language": "python",
   "name": "python3"
  },
  "language_info": {
   "codemirror_mode": {
    "name": "ipython",
    "version": 3
   },
   "file_extension": ".py",
   "mimetype": "text/x-python",
   "name": "python",
   "nbconvert_exporter": "python",
   "pygments_lexer": "ipython3",
   "version": "3.5.2"
  }
 },
 "nbformat": 4,
 "nbformat_minor": 0
}
