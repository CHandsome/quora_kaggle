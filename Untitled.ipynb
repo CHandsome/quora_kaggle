{
 "cells": [
  {
   "cell_type": "code",
   "execution_count": 2,
   "metadata": {
    "collapsed": true
   },
   "outputs": [],
   "source": [
    "import pandas as pd"
   ]
  },
  {
   "cell_type": "code",
   "execution_count": 4,
   "metadata": {
    "collapsed": false
   },
   "outputs": [
    {
     "name": "stdout",
     "output_type": "stream",
     "text": [
      "input/test_collins_duffy/sd_1e0_st.csv\n",
      "input/test_collins_duffy/sd_8e-1_st.csv\n",
      "input/test_collins_duffy/sd_5e-1_st.csv\n",
      "input/test_collins_duffy/sd_2e-1_st.csv\n",
      "input/test_collins_duffy/sd_1e-1_st.csv\n",
      "input/test_collins_duffy/sd_5e-2_st.csv\n",
      "input/test_collins_duffy/sd_1e-2_st.csv\n",
      "input/test_collins_duffy/sd_1e0_sst.csv\n",
      "input/test_collins_duffy/sd_8e-1_sst.csv\n",
      "input/test_collins_duffy/sd_5e-1_sst.csv\n",
      "input/test_collins_duffy/sd_2e-1_sst.csv\n",
      "input/test_collins_duffy/sd_1e-1_sst.csv\n",
      "input/test_collins_duffy/sd_5e-2_sst.csv\n",
      "input/test_collins_duffy/sd_1e-2_sst.csv\n"
     ]
    }
   ],
   "source": [
    "subs = ['st', 'sst']\n",
    "parts = ['1','2','3','4','5']\n",
    "labels = ['1e0','8e-1','5e-1','2e-1','1e-1','5e-2','1e-2']\n",
    "\n",
    "for s in subs:\n",
    "    for l in labels:\n",
    "        flip = True\n",
    "        compFrame = None\n",
    "        \n",
    "        for p in parts:\n",
    "            # Compile the feature vector\n",
    "#             print('input/%s/sd_p%s_%s_sst.csv' % (s,p,l))\n",
    "            if flip == True:\n",
    "                compFrame = pd.read_csv('input/test_collins_duffy/%s/sd_p%s_%s_%s.csv' % (s,p,l,s))\n",
    "                compFrame.set_index('id',inplace=True)\n",
    "                flip = False\n",
    "            else:\n",
    "                tmpFrame = pd.read_csv('input/test_collins_duffy/%s/sd_p%s_%s_%s.csv' % (s,p,l,s))\n",
    "                tmpFrame.set_index('id',inplace=True)\n",
    "                compFrame = compFrame.append(tmpFrame)\n",
    "        \n",
    "        compFrame.to_csv(\"input/test_collins_duffy/sd_%s_%s.csv\" % (l,s))\n",
    "        print(\"input/test_collins_duffy/sd_%s_%s.csv\" % (l,s))\n",
    "            \n"
   ]
  },
  {
   "cell_type": "code",
   "execution_count": null,
   "metadata": {
    "collapsed": true
   },
   "outputs": [],
   "source": []
  }
 ],
 "metadata": {
  "kernelspec": {
   "display_name": "Python 3",
   "language": "python",
   "name": "python3"
  },
  "language_info": {
   "codemirror_mode": {
    "name": "ipython",
    "version": 3
   },
   "file_extension": ".py",
   "mimetype": "text/x-python",
   "name": "python",
   "nbconvert_exporter": "python",
   "pygments_lexer": "ipython3",
   "version": "3.5.2"
  }
 },
 "nbformat": 4,
 "nbformat_minor": 0
}
