{
 "cells": [
  {
   "cell_type": "code",
   "execution_count": 8,
   "metadata": {
    "collapsed": true
   },
   "outputs": [],
   "source": [
    "import TreeBuild as tb\n",
    "import time"
   ]
  },
  {
   "cell_type": "code",
   "execution_count": 31,
   "metadata": {
    "collapsed": true
   },
   "outputs": [],
   "source": [
    "import numpy as np\n",
    "import math\n",
    "\n",
    "'''\n",
    "Helper Methods\n",
    "'''\n",
    "\n",
    "def _isLeaf_(tree, parentNode):\n",
    "    return (len(tree[parentNode]['children']) == 0)\n",
    "\n",
    "def _isPreterminal_(tree, parentNode):\n",
    "    for idx in tree[parentNode]['children']:\n",
    "        if not _isLeaf_(tree, idx):\n",
    "            return False\n",
    "    return True\n",
    "\n",
    "'''\n",
    "Implementation of the Colins-Duffy or Subset-Tree (SST) Kernel\n",
    "'''\n",
    "\n",
    "def _cdHelper_(tree1, tree2, node1, node2, store, lam, SST_ON):\n",
    "    # No duplicate computations\n",
    "    if store[node1, node2] >= 0:\n",
    "        return\n",
    "\n",
    "    # Leaves yield similarity score by definition\n",
    "    if (_isLeaf_(tree1, node1) or _isLeaf_(tree2, node2)):\n",
    "        store[node1, node2] = 0\n",
    "        return\n",
    "\n",
    "    # same parent node\n",
    "    if tree1[node1]['posOrTok'] == tree2[node2]['posOrTok']:\n",
    "        # same children tokens\n",
    "        if tree1[node1]['childrenTok'] == tree2[node2]['childrenTok']:\n",
    "            # Check if both nodes are pre-terminal\n",
    "            if _isPreterminal_(tree1, node1) and _isPreterminal_(tree2, node2):\n",
    "                store[node1, node2] = lam\n",
    "                return\n",
    "            # Not pre-terminal. Recurse among the children of both token trees.\n",
    "            else:\n",
    "                nChildren = len(tree1[node1]['children'])\n",
    "                \n",
    "                runningTotal = None\n",
    "                \n",
    "                for idx in range(nChildren):\n",
    "                     # index ->  node_id\n",
    "                    tmp_n1 = tree1[node1]['children'][idx]\n",
    "                    tmp_n2 = tree2[node2]['children'][idx]\n",
    "                    # Recursively run helper\n",
    "                    _cdHelper_(tree1, tree2, tmp_n1, tmp_n2, store, lam, SST_ON)\n",
    "\n",
    "                    if (runningTotal == None):\n",
    "                        runningTotal = SST_ON + store[tmp_n1, tmp_n2]\n",
    "                    else:\n",
    "                        runningTotal *= (SST_ON + store[tmp_n1, tmp_n2])\n",
    "                    \n",
    "                store[node1, node2] = lam * runningTotal\n",
    "                return\n",
    "        else:\n",
    "            store[node1, node2] = 0\n",
    "    else: # parent nodes are different\n",
    "        store[node1, node2] = 0\n",
    "        return\n",
    "\n",
    "def _cdKernel_(tree1, tree2, lam, SST_ON):\n",
    "    # Fill the initial state of the store\n",
    "    store = np.empty((len(tree1), len(tree2)))\n",
    "    store.fill(-1)\n",
    "    # O(N^2) to compute the tree dot product\n",
    "    for i in range(len(tree1)):\n",
    "        for j in range(len(tree2)):\n",
    "            _cdHelper_(tree1, tree2, i, j, store, lam, SST_ON)\n",
    "\n",
    "    return store.sum()\n",
    "\n",
    "'''\n",
    "Returns a tuple w/ format: (raw, normalized)\n",
    "If NORMALIZE_FLAG set to False, tuple[1] = -1\n",
    "'''\n",
    "def _CollinsDuffy_(tree1, tree2, lam, NORMALIZE_FLAG, SST_ON):\n",
    "    raw_score = _cdKernel_(tree1, tree2, lam, SST_ON)\n",
    "    if (NORMALIZE_FLAG):\n",
    "        t1_score = _cdKernel_(tree1, tree1, lam, SST_ON)\n",
    "        t2_score = _cdKernel_(tree2, tree2, lam, SST_ON)\n",
    "        return (raw_score,(raw_score / math.sqrt(t1_score * t2_score)))\n",
    "    else:\n",
    "        return (raw_score,-1)\n"
   ]
  },
  {
   "cell_type": "code",
   "execution_count": 3,
   "metadata": {
    "collapsed": false
   },
   "outputs": [],
   "source": [
    "from pycorenlp import StanfordCoreNLP \n",
    "nlp = StanfordCoreNLP('http://localhost:9000')"
   ]
  },
  {
   "cell_type": "code",
   "execution_count": 4,
   "metadata": {
    "collapsed": true
   },
   "outputs": [],
   "source": [
    "def _getNLPToks_(rawSentence):\n",
    "    try:\n",
    "        output = nlp.annotate(rawSentence, properties={\n",
    "            'annotators': 'tokenize,ssplit,pos,parse,depparse',\n",
    "            'outputFormat': 'json'\n",
    "        })\n",
    "    except UnicodeDecodeError:\n",
    "        print(\"Error Decoding Sentence\")\n",
    "\n",
    "    dependencies = output['sentences'][0]['basicDependencies']\n",
    "    tokens = output['sentences'][0]['tokens']\n",
    "    parse = output['sentences'][0]['parse'].split(\"\\n\")\n",
    "    \n",
    "    return {'deps':dependencies,\n",
    "            'toks':tokens, \n",
    "            'parse':parse}\n"
   ]
  },
  {
   "cell_type": "code",
   "execution_count": 54,
   "metadata": {
    "collapsed": false
   },
   "outputs": [
    {
     "name": "stdout",
     "output_type": "stream",
     "text": [
      "--- 0.2218029499053955 seconds ---\n",
      "--- 0.22223401069641113 seconds ---\n",
      "--- 0.2223958969116211 seconds ---\n",
      "--- 0.22823190689086914 seconds ---\n",
      "Raw Score: 8.1152\n",
      "Norm Score: 0.322101987619\n",
      "Raw Score: 7.0\n",
      "Norm Score: 0.222474604157\n"
     ]
    }
   ],
   "source": [
    "test_b1 = \"Why are so many Quora users posting questions that are readily answered on Google?\"\n",
    "test_b2 = \"Why do people ask Quora questions which can be answered easily by Google?\"\n",
    "\n",
    "# test_b1 = \"I tom?\"\n",
    "# test_b2 = \"I, Claudius?\"\n",
    "start_time = time.time()\n",
    "\n",
    "tree_b1 = tb.tree()\n",
    "tree_b2 = tb.tree()\n",
    "\n",
    "# Generate raw tokens using Stanford Core NLP\n",
    "\n",
    "toks_b1 = _getNLPToks_(test_b1)\n",
    "toks_b2 = _getNLPToks_(test_b2)\n",
    "print(\"--- %s seconds ---\" % (time.time() - start_time)) # tokenize\n",
    "\n",
    "# Generate a tree structure\n",
    "tb._generateTree_(toks_b1['parse'], tree_b1)\n",
    "tb._generateTree_(toks_b2['parse'], tree_b2)\n",
    "\n",
    "print(\"--- %s seconds ---\" % (time.time() - start_time)) # generate tree\n",
    "\n",
    "# Flip the trees\n",
    "tb._flipTree_(tree_b1)\n",
    "tb._flipTree_(tree_b2)\n",
    "\n",
    "print(\"--- %s seconds ---\" % (time.time() - start_time)) # flip tree\n",
    "\n",
    "(rawScore, normScore) = _CollinsDuffy_(tree_b1, tree_b2, 0.4, 1, 1)\n",
    "print(\"--- %s seconds ---\" % (time.time() - start_time)) # tree kerne\n",
    "print(\"Raw Score: %s\" % (rawScore))\n",
    "print(\"Norm Score: %s\" % (normScore))\n",
    "(rawScore, normScore) = _CollinsDuffy_(tree_b1, tree_b2, 1, 1, 0)\n",
    "print(\"Raw Score: %s\" % (rawScore))\n",
    "print(\"Norm Score: %s\" % (normScore))"
   ]
  },
  {
   "cell_type": "code",
   "execution_count": null,
   "metadata": {
    "collapsed": true
   },
   "outputs": [],
   "source": []
  }
 ],
 "metadata": {
  "kernelspec": {
   "display_name": "Python 3",
   "language": "python",
   "name": "python3"
  },
  "language_info": {
   "codemirror_mode": {
    "name": "ipython",
    "version": 3
   },
   "file_extension": ".py",
   "mimetype": "text/x-python",
   "name": "python",
   "nbconvert_exporter": "python",
   "pygments_lexer": "ipython3",
   "version": "3.5.2"
  }
 },
 "nbformat": 4,
 "nbformat_minor": 0
}
