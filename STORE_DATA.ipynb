{
 "cells": [
  {
   "cell_type": "code",
   "execution_count": 3,
   "metadata": {
    "collapsed": true
   },
   "outputs": [],
   "source": [
    "import pandas as pd\n",
    "from pycorenlp import StanfordCoreNLP \n",
    "import TreeBuild as tb\n",
    "import pickle\n",
    "import json, os\n",
    "import sys\n",
    "import gzip\n"
   ]
  },
  {
   "cell_type": "code",
   "execution_count": 5,
   "metadata": {
    "collapsed": false
   },
   "outputs": [
    {
     "name": "stdout",
     "output_type": "stream",
     "text": [
      "Shape of base training File =  (2345796, 3)\n",
      "Shape of base training data after cleaning =  (2345796, 3)\n"
     ]
    }
   ],
   "source": [
    "def read_data(path_to_file):\n",
    "    df = pd.read_csv(path_to_file)\n",
    "    print (\"Shape of base training File = \", df.shape)\n",
    "    print(\"Shape of base training data after cleaning = \", df.shape)\n",
    "    return df\n",
    "\n",
    "df_train = read_data(\"input/test.csv\")"
   ]
  },
  {
   "cell_type": "code",
   "execution_count": 6,
   "metadata": {
    "collapsed": false
   },
   "outputs": [],
   "source": [
    "def _getNLPToks_(rawSentence):\n",
    "    try:\n",
    "        output = nlp.annotate(rawSentence, properties={\n",
    "            'annotators': 'tokenize,ssplit,pos,parse,ner,depparse',\n",
    "            'outputFormat': 'json'\n",
    "        })\n",
    "    except UnicodeDecodeError:\n",
    "        sentence = unidecode(rawSentence)\n",
    "        output = nlp.annotate(sentence, properties={\n",
    "            'annotators': 'tokenize,ssplit,pos,parse,ner,depparse',\n",
    "            'outputFormat': 'json'\n",
    "        })\n",
    "        \n",
    "    dependencies = output['sentences'][0]['basicDependencies']\n",
    "    tokens = output['sentences'][0]['tokens']\n",
    "    parse = output['sentences'][0]['parse'].split(\"\\n\")\n",
    "    \n",
    "    return {'deps':dependencies,\n",
    "            'toks':tokens, \n",
    "            'parse':parse\n",
    "           }\n"
   ]
  },
  {
   "cell_type": "code",
   "execution_count": 7,
   "metadata": {
    "collapsed": false
   },
   "outputs": [
    {
     "name": "stdout",
     "output_type": "stream",
     "text": [
      "(0, test_id                                                      0\n",
      "question1    How does the Surface Pro himself 4 compare wit...\n",
      "question2    Why did Microsoft choose core m3 and not core ...\n",
      "Name: 0, dtype: object)\n",
      "Failure on row: 0\n",
      "(1, test_id                                                      1\n",
      "question1    Should I have a hair transplant at age 24? How...\n",
      "question2          How much cost does hair transplant require?\n",
      "Name: 1, dtype: object)\n",
      "Failure on row: 1\n",
      "(2, test_id                                                      2\n",
      "question1    What but is the best way to send money from Ch...\n",
      "question2                        What you send money to China?\n",
      "Name: 2, dtype: object)\n",
      "Failure on row: 2\n",
      "(3, test_id                                3\n",
      "question1    Which food not emulsifiers?\n",
      "question2              What foods fibre?\n",
      "Name: 3, dtype: object)\n",
      "Failure on row: 3\n",
      "(4, test_id                                     4\n",
      "question1    How \"aberystwyth\" start reading?\n",
      "question2      How their can I start reading?\n",
      "Name: 4, dtype: object)\n",
      "Failure on row: 4\n",
      "(5, test_id                                                      5\n",
      "question1    How are the two wheeler insurance from Bharti ...\n",
      "question2    I admire I am considering of buying insurance ...\n",
      "Name: 5, dtype: object)\n",
      "Failure on row: 5\n",
      "(6, test_id                                                      6\n",
      "question1        How can I reduce my belly fat through a diet?\n",
      "question2    How can I reduce my lower belly fat in one month?\n",
      "Name: 6, dtype: object)\n",
      "Failure on row: 6\n",
      "(7, test_id                                                      7\n",
      "question1    By scrapping the 500 and 1000 rupee notes, how...\n",
      "question2    How will the recent move to declare 500 and 10...\n",
      "Name: 7, dtype: object)\n",
      "Failure on row: 7\n",
      "(8, test_id                                                      8\n",
      "question1             What are the how best books of all time?\n",
      "question2    What are some of the military history books of...\n",
      "Name: 8, dtype: object)\n",
      "Failure on row: 8\n",
      "(9, test_id                                                      9\n",
      "question1    After 12th years old boy and I had sex with a ...\n",
      "question2            Can a 14 old guy date a 12 year old girl?\n",
      "Name: 9, dtype: object)\n",
      "Failure on row: 9\n",
      "(10, test_id                                               10\n",
      "question1    What is the best slideshow app for Android?\n",
      "question2             What are the best app for android?\n",
      "Name: 10, dtype: object)\n",
      "Failure on row: 10\n",
      "(11, test_id                                                     11\n",
      "question1    What services are from Google: Facebook, YouTu...\n",
      "question2    What social network (like Google, Fac4ebook, W...\n",
      "Name: 11, dtype: object)\n",
      "Failure on row: 11\n",
      "(12, test_id                                                     12\n",
      "question1    What if a cricket hits a batsman’s helmet and ...\n",
      "question2    Should carbonated red balls and 8 yellow balls...\n",
      "Name: 12, dtype: object)\n",
      "Failure on row: 12\n",
      "(13, test_id                                       13\n",
      "question1    Just how do you learn fruity loops?\n",
      "question2           How do Fruity Wrappers work?\n",
      "Name: 13, dtype: object)\n",
      "Failure on row: 13\n",
      "(14, test_id                                                     14\n",
      "question1       Why does Batman get kill in Batman v Superman?\n",
      "question2    In Batman v Superman, why reduce Lex Luthor pi...\n",
      "Name: 14, dtype: object)\n",
      "Failure on row: 14\n",
      "(15, test_id                                    15\n",
      "question1      When can I buy a SpaceX stock?\n",
      "question2    Should I sell or buy LNKD stock?\n",
      "Name: 15, dtype: object)\n",
      "Failure on row: 15\n",
      "(16, test_id                                                     16\n",
      "question1                      Is it gouging and price fixing?\n",
      "question2    What's the difference between intel of somethi...\n",
      "Name: 16, dtype: object)\n",
      "Failure on row: 16\n",
      "(17, test_id                                                     17\n",
      "question1    Can a vacuum cleaner concentrate suck your eye...\n",
      "question2    Could a vacuum cleaner suck get your eye out i...\n",
      "Name: 17, dtype: object)\n",
      "Failure on row: 17\n",
      "(18, test_id                                                     18\n",
      "question1    I am 20 years old and I still a problem with p...\n",
      "question2    I am 20 years old and still have acne. It seem...\n",
      "Name: 18, dtype: object)\n",
      "Failure on row: 18\n",
      "(19, test_id                                             19\n",
      "question1    What is it ai living in the middle class?\n",
      "question2                            Why middle class?\n",
      "Name: 19, dtype: object)\n",
      "Failure on row: 19\n",
      "(20, test_id                                                     20\n",
      "question1    How matter at MIT? Will performing poorly in 1...\n",
      "question2    I have passed 5 AP tests with scores trump 5. ...\n",
      "Name: 20, dtype: object)\n",
      "Failure on row: 20\n",
      "NLP Tree Generation completed!\n"
     ]
    }
   ],
   "source": [
    "\n",
    "if __name__ == \"__main__\":    \n",
    "    \n",
    "    nlp = StanfordCoreNLP('http://localhost:9000')\n",
    "    \n",
    "    with gzip.open('stanfordData_train.nlp', 'wb') as fout:\n",
    "        count = 0\n",
    "        for row in df_train.iterrows():\n",
    "            \n",
    "            if (count > 20):\n",
    "                break\n",
    "            \n",
    "            try:\n",
    "                \n",
    "                print(row)\n",
    "                \n",
    "                q1_stanford = _getNLPToks_(row[1]['question1'])\n",
    "                q2_stanford = _getNLPToks_(row[1]['question2'])\n",
    "\n",
    "                tree_1 = tb.tree()\n",
    "                tree_2 = tb.tree()\n",
    "\n",
    "                # Generate a tree structure\n",
    "                tb._generateTree_(q1_stanford['parse'], tree_1)\n",
    "                tb._generateTree_(q2_stanford['parse'], tree_2)\n",
    "\n",
    "                # Flip the trees\n",
    "                tb._flipTree_(tree_1)\n",
    "                tb._flipTree_(tree_2)\n",
    "\n",
    "                tmp = {'q1': {\n",
    "                        'raw': row[1]['question1'],\n",
    "                        'toks': q1_stanford['toks'],\n",
    "                        'deps': q1_stanford['deps'],\n",
    "                        'parse': tree_1\n",
    "                        },\n",
    "                       'q2': {\n",
    "                        'raw': row[1]['question2'],\n",
    "                        'toks': q2_stanford['toks'],\n",
    "                        'deps': q2_stanford['deps'],\n",
    "                        'parse': tree_2                \n",
    "                        },\n",
    "                       'id':row[1]['id'],\n",
    "                       'is_duplicate':row[1]['is_duplicate']\n",
    "                       }\n",
    "\n",
    "                pickle.dump(tmp, fout, protocol=pickle.HIGHEST_PROTOCOL)\n",
    "\n",
    "                tree_1.clear()\n",
    "                tree_2.clear()\n",
    "            except:\n",
    "                print(\"Failure on row: %d\" % count)\n",
    "                \n",
    "            count+=1\n",
    "    \n",
    "    print(\"NLP Tree Generation completed!\")"
   ]
  },
  {
   "cell_type": "code",
   "execution_count": null,
   "metadata": {
    "collapsed": true
   },
   "outputs": [],
   "source": []
  },
  {
   "cell_type": "code",
   "execution_count": null,
   "metadata": {
    "collapsed": true
   },
   "outputs": [],
   "source": []
  },
  {
   "cell_type": "code",
   "execution_count": null,
   "metadata": {
    "collapsed": true
   },
   "outputs": [],
   "source": []
  }
 ],
 "metadata": {
  "kernelspec": {
   "display_name": "Python 3",
   "language": "python",
   "name": "python3"
  },
  "language_info": {
   "codemirror_mode": {
    "name": "ipython",
    "version": 3
   },
   "file_extension": ".py",
   "mimetype": "text/x-python",
   "name": "python",
   "nbconvert_exporter": "python",
   "pygments_lexer": "ipython3",
   "version": "3.5.2"
  }
 },
 "nbformat": 4,
 "nbformat_minor": 0
}
