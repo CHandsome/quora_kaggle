{
 "cells": [
  {
   "cell_type": "code",
   "execution_count": null,
   "metadata": {
    "collapsed": true
   },
   "outputs": [],
   "source": [
    "import pandas as pd\n",
    "from pycorenlp import StanfordCoreNLP \n",
    "import TreeBuild as tb\n",
    "import pickle\n",
    "import json, os\n",
    "\n",
    "nlp = StanfordCoreNLP('http://localhost:9000')"
   ]
  },
  {
   "cell_type": "code",
   "execution_count": null,
   "metadata": {
    "collapsed": false
   },
   "outputs": [],
   "source": [
    "def read_data(path_to_file):\n",
    "    df = pd.read_csv(path_to_file)\n",
    "    print (\"Shape of base training File = \", df.shape)\n",
    "    print(\"Shape of base training data after cleaning = \", df.shape)\n",
    "    return df\n",
    "\n",
    "df_train = read_data(\"input/train.csv\")"
   ]
  },
  {
   "cell_type": "code",
   "execution_count": 2,
   "metadata": {
    "collapsed": false
   },
   "outputs": [],
   "source": [
    "def _getNLPToks_(rawSentence):\n",
    "    try:\n",
    "        output = nlp.annotate(rawSentence, properties={\n",
    "            'annotators': 'tokenize,ssplit,pos,parse,depparse',\n",
    "            'outputFormat': 'json'\n",
    "        })\n",
    "    except UnicodeDecodeError:\n",
    "        sentence = unidecode(rawSentence)\n",
    "        output = nlp.annotate(sentence, properties={\n",
    "            'annotators': 'tokenize,ssplit,pos,parse,depparse',\n",
    "            'outputFormat': 'json'\n",
    "        })\n",
    "    dependencies = output['sentences'][0]['basicDependencies']\n",
    "    tokens = output['sentences'][0]['tokens']\n",
    "    parse = output['sentences'][0]['parse'].split(\"\\n\")\n",
    "    return {'deps':dependencies, 'toks':tokens, 'parse':parse}\n"
   ]
  },
  {
   "cell_type": "code",
   "execution_count": null,
   "metadata": {
    "collapsed": false
   },
   "outputs": [],
   "source": [
    "\n",
    "if __name__ == \"__main__\":    \n",
    "    with open('stanfordData_train.nlp', 'wb') as fout:\n",
    "        count = 0\n",
    "        for row in df_train.iterrows():\n",
    "            try:\n",
    "                q1_stanford = _getNLPToks_(row[1]['question1'])\n",
    "                q2_stanford = _getNLPToks_(row[1]['question2'])\n",
    "\n",
    "                tree_1 = tb.tree()\n",
    "                tree_2 = tb.tree()\n",
    "\n",
    "                # Generate a tree structure\n",
    "                tb._generateTree_(q1_stanford['parse'], tree_1)\n",
    "                tb._generateTree_(q2_stanford['parse'], tree_2)\n",
    "\n",
    "                # Flip the trees\n",
    "                tb._flipTree_(tree_1)\n",
    "                tb._flipTree_(tree_2)\n",
    "\n",
    "                tmp = {'q1': {\n",
    "                        'raw': row[1]['question1'],\n",
    "                        'toks': q1_stanford['toks'],\n",
    "                        'deps': q1_stanford['deps'],\n",
    "                        'parse': tree_1\n",
    "                        },\n",
    "                       'q2': {\n",
    "                        'raw': row[1]['question2'],\n",
    "                        'toks': q2_stanford['toks'],\n",
    "                        'deps': q2_stanford['deps'],\n",
    "                        'parse': tree_2                \n",
    "                        },\n",
    "                       'id':row[1]['id'],\n",
    "                       'is_duplicate':row[1]['is_duplicate']\n",
    "                       }\n",
    "\n",
    "                pickle.dump(tmp, fout, protocol=pickle.HIGHEST_PROTOCOL)\n",
    "\n",
    "                tree_1.clear()\n",
    "                tree_2.clear()\n",
    "            except:\n",
    "                print(\"Failure on row: %d\" % count)\n",
    "                \n",
    "            count+=1\n",
    "    \n",
    "    print(\"NLP Tree Generation completed!\")"
   ]
  },
  {
   "cell_type": "code",
   "execution_count": null,
   "metadata": {
    "collapsed": true
   },
   "outputs": [],
   "source": []
  },
  {
   "cell_type": "code",
   "execution_count": null,
   "metadata": {
    "collapsed": true
   },
   "outputs": [],
   "source": []
  },
  {
   "cell_type": "code",
   "execution_count": null,
   "metadata": {
    "collapsed": true
   },
   "outputs": [],
   "source": []
  }
 ],
 "metadata": {
  "kernelspec": {
   "display_name": "Python 3",
   "language": "python",
   "name": "python3"
  },
  "language_info": {
   "codemirror_mode": {
    "name": "ipython",
    "version": 3
   },
   "file_extension": ".py",
   "mimetype": "text/x-python",
   "name": "python",
   "nbconvert_exporter": "python",
   "pygments_lexer": "ipython3",
   "version": "3.5.2"
  }
 },
 "nbformat": 4,
 "nbformat_minor": 0
}
